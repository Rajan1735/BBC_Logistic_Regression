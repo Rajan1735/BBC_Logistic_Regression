{
  "nbformat": 4,
  "nbformat_minor": 0,
  "metadata": {
    "colab": {
      "provenance": []
    },
    "kernelspec": {
      "name": "python3",
      "display_name": "Python 3"
    },
    "language_info": {
      "name": "python"
    }
  },
  "cells": [
    {
      "cell_type": "code",
      "execution_count": null,
      "metadata": {
        "id": "qvuFMfBs53kk"
      },
      "outputs": [],
      "source": [
        "#importing dependencies\n",
        "import numpy as np\n",
        "import pandas as pd\n",
        "import re,string\n",
        "import matplotlib.pyplot as plt\n",
        "import nltk\n",
        "from nltk.corpus import stopwords\n",
        "from nltk.stem import PorterStemmer\n",
        "from sklearn.feature_extraction.text import TfidfVectorizer\n",
        "from sklearn.pipeline import Pipeline\n",
        "from sklearn.metrics import classification_report, confusion_matrix\n",
        "from sklearn.model_selection import train_test_split\n",
        "from sklearn.feature_selection import SelectKBest, chi2\n",
        "import pickle"
      ]
    },
    {
      "cell_type": "code",
      "source": [
        "# from google.colab import drive\n",
        "# drive.mount('/content/drive')"
      ],
      "metadata": {
        "id": "Z_2xzA_3xxYO"
      },
      "execution_count": null,
      "outputs": []
    },
    {
      "cell_type": "code",
      "source": [
        "#reading csv file\n",
        "df = pd.read_csv('/content/bbc-text.csv')\n",
        "df = df.sample(frac = 1)\n",
        "df"
      ],
      "metadata": {
        "colab": {
          "base_uri": "https://localhost:8080/",
          "height": 423
        },
        "id": "BAtLnUFL6emp",
        "outputId": "88eb0740-ad86-4246-ffe1-d73aa76a2efd"
      },
      "execution_count": null,
      "outputs": [
        {
          "output_type": "execute_result",
          "data": {
            "text/plain": [
              "           category                                               text\n",
              "824        politics  prime minister s questions so who  if anyone  ...\n",
              "553            tech  games win for blu-ray dvd format the next-gene...\n",
              "163   entertainment  musical treatment for capra film the classic f...\n",
              "756            tech  hotspot users gain free net calls people using...\n",
              "718            tech  apple attacked over sources row civil libertie...\n",
              "...             ...                                                ...\n",
              "488           sport  pavey focuses on indoor success jo pavey will ...\n",
              "1530       business  ford gains from finance not cars ford  the us ...\n",
              "795           sport  desailly backs blues revenge trip marcel desai...\n",
              "1720       politics  mandelson warning to bbc the bbc should steer ...\n",
              "529           sport  newcastle line up babayaro newcastle manager g...\n",
              "\n",
              "[2225 rows x 2 columns]"
            ],
            "text/html": [
              "\n",
              "  <div id=\"df-8d94f920-71e4-47f2-968f-780b669c8127\" class=\"colab-df-container\">\n",
              "    <div>\n",
              "<style scoped>\n",
              "    .dataframe tbody tr th:only-of-type {\n",
              "        vertical-align: middle;\n",
              "    }\n",
              "\n",
              "    .dataframe tbody tr th {\n",
              "        vertical-align: top;\n",
              "    }\n",
              "\n",
              "    .dataframe thead th {\n",
              "        text-align: right;\n",
              "    }\n",
              "</style>\n",
              "<table border=\"1\" class=\"dataframe\">\n",
              "  <thead>\n",
              "    <tr style=\"text-align: right;\">\n",
              "      <th></th>\n",
              "      <th>category</th>\n",
              "      <th>text</th>\n",
              "    </tr>\n",
              "  </thead>\n",
              "  <tbody>\n",
              "    <tr>\n",
              "      <th>824</th>\n",
              "      <td>politics</td>\n",
              "      <td>prime minister s questions so who  if anyone  ...</td>\n",
              "    </tr>\n",
              "    <tr>\n",
              "      <th>553</th>\n",
              "      <td>tech</td>\n",
              "      <td>games win for blu-ray dvd format the next-gene...</td>\n",
              "    </tr>\n",
              "    <tr>\n",
              "      <th>163</th>\n",
              "      <td>entertainment</td>\n",
              "      <td>musical treatment for capra film the classic f...</td>\n",
              "    </tr>\n",
              "    <tr>\n",
              "      <th>756</th>\n",
              "      <td>tech</td>\n",
              "      <td>hotspot users gain free net calls people using...</td>\n",
              "    </tr>\n",
              "    <tr>\n",
              "      <th>718</th>\n",
              "      <td>tech</td>\n",
              "      <td>apple attacked over sources row civil libertie...</td>\n",
              "    </tr>\n",
              "    <tr>\n",
              "      <th>...</th>\n",
              "      <td>...</td>\n",
              "      <td>...</td>\n",
              "    </tr>\n",
              "    <tr>\n",
              "      <th>488</th>\n",
              "      <td>sport</td>\n",
              "      <td>pavey focuses on indoor success jo pavey will ...</td>\n",
              "    </tr>\n",
              "    <tr>\n",
              "      <th>1530</th>\n",
              "      <td>business</td>\n",
              "      <td>ford gains from finance not cars ford  the us ...</td>\n",
              "    </tr>\n",
              "    <tr>\n",
              "      <th>795</th>\n",
              "      <td>sport</td>\n",
              "      <td>desailly backs blues revenge trip marcel desai...</td>\n",
              "    </tr>\n",
              "    <tr>\n",
              "      <th>1720</th>\n",
              "      <td>politics</td>\n",
              "      <td>mandelson warning to bbc the bbc should steer ...</td>\n",
              "    </tr>\n",
              "    <tr>\n",
              "      <th>529</th>\n",
              "      <td>sport</td>\n",
              "      <td>newcastle line up babayaro newcastle manager g...</td>\n",
              "    </tr>\n",
              "  </tbody>\n",
              "</table>\n",
              "<p>2225 rows × 2 columns</p>\n",
              "</div>\n",
              "    <div class=\"colab-df-buttons\">\n",
              "\n",
              "  <div class=\"colab-df-container\">\n",
              "    <button class=\"colab-df-convert\" onclick=\"convertToInteractive('df-8d94f920-71e4-47f2-968f-780b669c8127')\"\n",
              "            title=\"Convert this dataframe to an interactive table.\"\n",
              "            style=\"display:none;\">\n",
              "\n",
              "  <svg xmlns=\"http://www.w3.org/2000/svg\" height=\"24px\" viewBox=\"0 -960 960 960\">\n",
              "    <path d=\"M120-120v-720h720v720H120Zm60-500h600v-160H180v160Zm220 220h160v-160H400v160Zm0 220h160v-160H400v160ZM180-400h160v-160H180v160Zm440 0h160v-160H620v160ZM180-180h160v-160H180v160Zm440 0h160v-160H620v160Z\"/>\n",
              "  </svg>\n",
              "    </button>\n",
              "\n",
              "  <style>\n",
              "    .colab-df-container {\n",
              "      display:flex;\n",
              "      gap: 12px;\n",
              "    }\n",
              "\n",
              "    .colab-df-convert {\n",
              "      background-color: #E8F0FE;\n",
              "      border: none;\n",
              "      border-radius: 50%;\n",
              "      cursor: pointer;\n",
              "      display: none;\n",
              "      fill: #1967D2;\n",
              "      height: 32px;\n",
              "      padding: 0 0 0 0;\n",
              "      width: 32px;\n",
              "    }\n",
              "\n",
              "    .colab-df-convert:hover {\n",
              "      background-color: #E2EBFA;\n",
              "      box-shadow: 0px 1px 2px rgba(60, 64, 67, 0.3), 0px 1px 3px 1px rgba(60, 64, 67, 0.15);\n",
              "      fill: #174EA6;\n",
              "    }\n",
              "\n",
              "    .colab-df-buttons div {\n",
              "      margin-bottom: 4px;\n",
              "    }\n",
              "\n",
              "    [theme=dark] .colab-df-convert {\n",
              "      background-color: #3B4455;\n",
              "      fill: #D2E3FC;\n",
              "    }\n",
              "\n",
              "    [theme=dark] .colab-df-convert:hover {\n",
              "      background-color: #434B5C;\n",
              "      box-shadow: 0px 1px 3px 1px rgba(0, 0, 0, 0.15);\n",
              "      filter: drop-shadow(0px 1px 2px rgba(0, 0, 0, 0.3));\n",
              "      fill: #FFFFFF;\n",
              "    }\n",
              "  </style>\n",
              "\n",
              "    <script>\n",
              "      const buttonEl =\n",
              "        document.querySelector('#df-8d94f920-71e4-47f2-968f-780b669c8127 button.colab-df-convert');\n",
              "      buttonEl.style.display =\n",
              "        google.colab.kernel.accessAllowed ? 'block' : 'none';\n",
              "\n",
              "      async function convertToInteractive(key) {\n",
              "        const element = document.querySelector('#df-8d94f920-71e4-47f2-968f-780b669c8127');\n",
              "        const dataTable =\n",
              "          await google.colab.kernel.invokeFunction('convertToInteractive',\n",
              "                                                    [key], {});\n",
              "        if (!dataTable) return;\n",
              "\n",
              "        const docLinkHtml = 'Like what you see? Visit the ' +\n",
              "          '<a target=\"_blank\" href=https://colab.research.google.com/notebooks/data_table.ipynb>data table notebook</a>'\n",
              "          + ' to learn more about interactive tables.';\n",
              "        element.innerHTML = '';\n",
              "        dataTable['output_type'] = 'display_data';\n",
              "        await google.colab.output.renderOutput(dataTable, element);\n",
              "        const docLink = document.createElement('div');\n",
              "        docLink.innerHTML = docLinkHtml;\n",
              "        element.appendChild(docLink);\n",
              "      }\n",
              "    </script>\n",
              "  </div>\n",
              "\n",
              "\n",
              "<div id=\"df-0000d93f-0c72-4495-bf35-f90fe4ccf297\">\n",
              "  <button class=\"colab-df-quickchart\" onclick=\"quickchart('df-0000d93f-0c72-4495-bf35-f90fe4ccf297')\"\n",
              "            title=\"Suggest charts\"\n",
              "            style=\"display:none;\">\n",
              "\n",
              "<svg xmlns=\"http://www.w3.org/2000/svg\" height=\"24px\"viewBox=\"0 0 24 24\"\n",
              "     width=\"24px\">\n",
              "    <g>\n",
              "        <path d=\"M19 3H5c-1.1 0-2 .9-2 2v14c0 1.1.9 2 2 2h14c1.1 0 2-.9 2-2V5c0-1.1-.9-2-2-2zM9 17H7v-7h2v7zm4 0h-2V7h2v10zm4 0h-2v-4h2v4z\"/>\n",
              "    </g>\n",
              "</svg>\n",
              "  </button>\n",
              "\n",
              "<style>\n",
              "  .colab-df-quickchart {\n",
              "      --bg-color: #E8F0FE;\n",
              "      --fill-color: #1967D2;\n",
              "      --hover-bg-color: #E2EBFA;\n",
              "      --hover-fill-color: #174EA6;\n",
              "      --disabled-fill-color: #AAA;\n",
              "      --disabled-bg-color: #DDD;\n",
              "  }\n",
              "\n",
              "  [theme=dark] .colab-df-quickchart {\n",
              "      --bg-color: #3B4455;\n",
              "      --fill-color: #D2E3FC;\n",
              "      --hover-bg-color: #434B5C;\n",
              "      --hover-fill-color: #FFFFFF;\n",
              "      --disabled-bg-color: #3B4455;\n",
              "      --disabled-fill-color: #666;\n",
              "  }\n",
              "\n",
              "  .colab-df-quickchart {\n",
              "    background-color: var(--bg-color);\n",
              "    border: none;\n",
              "    border-radius: 50%;\n",
              "    cursor: pointer;\n",
              "    display: none;\n",
              "    fill: var(--fill-color);\n",
              "    height: 32px;\n",
              "    padding: 0;\n",
              "    width: 32px;\n",
              "  }\n",
              "\n",
              "  .colab-df-quickchart:hover {\n",
              "    background-color: var(--hover-bg-color);\n",
              "    box-shadow: 0 1px 2px rgba(60, 64, 67, 0.3), 0 1px 3px 1px rgba(60, 64, 67, 0.15);\n",
              "    fill: var(--button-hover-fill-color);\n",
              "  }\n",
              "\n",
              "  .colab-df-quickchart-complete:disabled,\n",
              "  .colab-df-quickchart-complete:disabled:hover {\n",
              "    background-color: var(--disabled-bg-color);\n",
              "    fill: var(--disabled-fill-color);\n",
              "    box-shadow: none;\n",
              "  }\n",
              "\n",
              "  .colab-df-spinner {\n",
              "    border: 2px solid var(--fill-color);\n",
              "    border-color: transparent;\n",
              "    border-bottom-color: var(--fill-color);\n",
              "    animation:\n",
              "      spin 1s steps(1) infinite;\n",
              "  }\n",
              "\n",
              "  @keyframes spin {\n",
              "    0% {\n",
              "      border-color: transparent;\n",
              "      border-bottom-color: var(--fill-color);\n",
              "      border-left-color: var(--fill-color);\n",
              "    }\n",
              "    20% {\n",
              "      border-color: transparent;\n",
              "      border-left-color: var(--fill-color);\n",
              "      border-top-color: var(--fill-color);\n",
              "    }\n",
              "    30% {\n",
              "      border-color: transparent;\n",
              "      border-left-color: var(--fill-color);\n",
              "      border-top-color: var(--fill-color);\n",
              "      border-right-color: var(--fill-color);\n",
              "    }\n",
              "    40% {\n",
              "      border-color: transparent;\n",
              "      border-right-color: var(--fill-color);\n",
              "      border-top-color: var(--fill-color);\n",
              "    }\n",
              "    60% {\n",
              "      border-color: transparent;\n",
              "      border-right-color: var(--fill-color);\n",
              "    }\n",
              "    80% {\n",
              "      border-color: transparent;\n",
              "      border-right-color: var(--fill-color);\n",
              "      border-bottom-color: var(--fill-color);\n",
              "    }\n",
              "    90% {\n",
              "      border-color: transparent;\n",
              "      border-bottom-color: var(--fill-color);\n",
              "    }\n",
              "  }\n",
              "</style>\n",
              "\n",
              "  <script>\n",
              "    async function quickchart(key) {\n",
              "      const quickchartButtonEl =\n",
              "        document.querySelector('#' + key + ' button');\n",
              "      quickchartButtonEl.disabled = true;  // To prevent multiple clicks.\n",
              "      quickchartButtonEl.classList.add('colab-df-spinner');\n",
              "      try {\n",
              "        const charts = await google.colab.kernel.invokeFunction(\n",
              "            'suggestCharts', [key], {});\n",
              "      } catch (error) {\n",
              "        console.error('Error during call to suggestCharts:', error);\n",
              "      }\n",
              "      quickchartButtonEl.classList.remove('colab-df-spinner');\n",
              "      quickchartButtonEl.classList.add('colab-df-quickchart-complete');\n",
              "    }\n",
              "    (() => {\n",
              "      let quickchartButtonEl =\n",
              "        document.querySelector('#df-0000d93f-0c72-4495-bf35-f90fe4ccf297 button');\n",
              "      quickchartButtonEl.style.display =\n",
              "        google.colab.kernel.accessAllowed ? 'block' : 'none';\n",
              "    })();\n",
              "  </script>\n",
              "</div>\n",
              "\n",
              "  <div id=\"id_f7bca69b-0af1-421a-a494-1451d6b56423\">\n",
              "    <style>\n",
              "      .colab-df-generate {\n",
              "        background-color: #E8F0FE;\n",
              "        border: none;\n",
              "        border-radius: 50%;\n",
              "        cursor: pointer;\n",
              "        display: none;\n",
              "        fill: #1967D2;\n",
              "        height: 32px;\n",
              "        padding: 0 0 0 0;\n",
              "        width: 32px;\n",
              "      }\n",
              "\n",
              "      .colab-df-generate:hover {\n",
              "        background-color: #E2EBFA;\n",
              "        box-shadow: 0px 1px 2px rgba(60, 64, 67, 0.3), 0px 1px 3px 1px rgba(60, 64, 67, 0.15);\n",
              "        fill: #174EA6;\n",
              "      }\n",
              "\n",
              "      [theme=dark] .colab-df-generate {\n",
              "        background-color: #3B4455;\n",
              "        fill: #D2E3FC;\n",
              "      }\n",
              "\n",
              "      [theme=dark] .colab-df-generate:hover {\n",
              "        background-color: #434B5C;\n",
              "        box-shadow: 0px 1px 3px 1px rgba(0, 0, 0, 0.15);\n",
              "        filter: drop-shadow(0px 1px 2px rgba(0, 0, 0, 0.3));\n",
              "        fill: #FFFFFF;\n",
              "      }\n",
              "    </style>\n",
              "    <button class=\"colab-df-generate\" onclick=\"generateWithVariable('df')\"\n",
              "            title=\"Generate code using this dataframe.\"\n",
              "            style=\"display:none;\">\n",
              "\n",
              "  <svg xmlns=\"http://www.w3.org/2000/svg\" height=\"24px\"viewBox=\"0 0 24 24\"\n",
              "       width=\"24px\">\n",
              "    <path d=\"M7,19H8.4L18.45,9,17,7.55,7,17.6ZM5,21V16.75L18.45,3.32a2,2,0,0,1,2.83,0l1.4,1.43a1.91,1.91,0,0,1,.58,1.4,1.91,1.91,0,0,1-.58,1.4L9.25,21ZM18.45,9,17,7.55Zm-12,3A5.31,5.31,0,0,0,4.9,8.1,5.31,5.31,0,0,0,1,6.5,5.31,5.31,0,0,0,4.9,4.9,5.31,5.31,0,0,0,6.5,1,5.31,5.31,0,0,0,8.1,4.9,5.31,5.31,0,0,0,12,6.5,5.46,5.46,0,0,0,6.5,12Z\"/>\n",
              "  </svg>\n",
              "    </button>\n",
              "    <script>\n",
              "      (() => {\n",
              "      const buttonEl =\n",
              "        document.querySelector('#id_f7bca69b-0af1-421a-a494-1451d6b56423 button.colab-df-generate');\n",
              "      buttonEl.style.display =\n",
              "        google.colab.kernel.accessAllowed ? 'block' : 'none';\n",
              "\n",
              "      buttonEl.onclick = () => {\n",
              "        google.colab.notebook.generateWithVariable('df');\n",
              "      }\n",
              "      })();\n",
              "    </script>\n",
              "  </div>\n",
              "\n",
              "    </div>\n",
              "  </div>\n"
            ],
            "application/vnd.google.colaboratory.intrinsic+json": {
              "type": "dataframe",
              "variable_name": "df",
              "summary": "{\n  \"name\": \"df\",\n  \"rows\": 2225,\n  \"fields\": [\n    {\n      \"column\": \"category\",\n      \"properties\": {\n        \"dtype\": \"category\",\n        \"num_unique_values\": 5,\n        \"samples\": [\n          \"tech\",\n          \"business\",\n          \"entertainment\"\n        ],\n        \"semantic_type\": \"\",\n        \"description\": \"\"\n      }\n    },\n    {\n      \"column\": \"text\",\n      \"properties\": {\n        \"dtype\": \"string\",\n        \"num_unique_values\": 2126,\n        \"samples\": [\n          \"uk economy ends year with spurt the uk economy grew by an estimated 3.1% in 2004 after accelerating in the last quarter of the year  says the office for national statistics (ons).  the figure is in line with treasury and bank of england forecasts. the ons says gross domestic product (gdp) rose by a strong 0.7% in the three months to 31 december  compared with 0.5% in the previous quarter. the rise came despite a further decline in production output and the worst christmas for retailers in decades.  the annual figure marked out the best year since 2000  and was also well ahead of the 2.2% recorded in 2003. growth in the final three months of 2004 marked the 50th consecutive quarter of expansion.  on the basis of the latest information the uk has entered 2005 on course to continue its record period of growth   said paul boateng  chief secretary to the treasury in a statement.  the ons said the services sector  which accounts for nearly three-quarters of the uk economy  grew 1.0% in the quarter. the strong services figure was welcomed by analysts  given lacklustre retail sales in december and across the christmas holiday period.  the fact that other services components are doing so well suggests to me that we are back to trend (growth) and i am not particularly concerned about any further slowdown   said ross walker  uk economist at rbs financial markets.  however  output in the production sector contracted 0.5%  the second quarterly fall in row and a state of affairs that some economists classify as a recession. however the ons would not comment on the definition of a recession and whether the manufacturing recovery was over. but steve radley  chief economist at the manufacturers  organisation eef  said:  these figures remain at odds with what is actually happening on the ground.  whilst companies may be experiencing tougher conditions this year   recession  is not a word that manufacturers would currently recognise.  the ons said a sharp fall in mining and quarrying  which was driven by oil and gas extraction  was primarily responsible for the overall contraction in manufacturing production figures.  simon rubinsohn  chief economist at gerrard  said:  this outturn (of 0.7%) was well ahead of the market expectations and cast doubt on the scare stories doing the rounds surrounding the current state of the uk economy.  and he said the gdp figures may help to  push interest rate expectations a little higher along the curve .  the suggestion from the money markets is that the next move is now more likely to be in an upward rather than a downward direction. this is consistent with our own thinking   said mr rubinsohn. the bank of england s nine-strong rate-setting committee voted unanimously earlier this month to keep interest rates steady at 4.75%  minutes of the meeting showed on wednesday.\",\n          \"whitehall cuts  ahead of target  thousands of civil service jobs have already been cut or moved out of london as part of a major cost-cutting drive.  chancellor gordon brown said 12 500 jobs had gone while 7 800 were being moved out of the south east. he plans to axe 104 000 jobs to free up money for education  health  defence  housing and overseas aid. unions oppose the plans but mr brown said \\u00a32bn savings had already been made and more jobs had been cut than had been expected at this stage. a further 200 jobs at the department of the environment  food and rural affairs have been earmarked to be cut. at the department for work and pensions  30 000 jobs are to go  560 will be lost by the end of the month at the department of trade and industry and 400 are to go at the inland revenue and customs.  in his budget statement  the chancellor said the first 12 500 civil service jobs had been cut  on target. about 4 300 civil servants will leave london and the south east by the end of march 2005 and there are plans to relocate another 3 500. of those 300 department of health posts will go to yorkshire while hundreds at the department of culture will move to birmingham and newcastle.  mr brown also announced plans to merge 35 agencies into nine - described by one civil service union as a  bonfire of the quangos . mark serwotka  the leader of the public and commercial services union said:  in last year s budget we had the day of the long knifes as the chancellor kicked off the crude game of who could cut the most civil service jobs between the government and the tories.  there was a time when the only worry thousands of hard working civil and public servants had on budget day was whether petrol or taxes would go up  nowadays the worry is whether they will have a job by the end of it.  he said mr brown had made welcome announcements on closing tax loopholes and extending the new deal  while cutting  the very people who deliver them.  the treasury also announced plans to reduce the number of public sector workers on sick leave with a new system of checks and tougher measures against those suspected of abusing the system.\",\n          \"security scares spark browser fix microsoft is working on a new version of its internet explorer web browser.  the revamp has been prompted by microsoft s growing concern with security as well as increased competition from rival browsers. microsoft said the new version will be far less vulnerable to the bugs that make its current browser a favourite of tech-savvy criminals. test versions of the new program  called ie 7  are due to be released by the summer.  the announcement about internet explorer was made by bill gates  microsoft chairman and chief software architect  during a keynote speech at the rsa security conference currently being held in san francisco. although details were scant  mr gates  said ie7 would include new protections against viruses  spyware and phishing scams. this last category of threats involves criminals setting up spoof websites that look identical to those of banks and try to trick people into handing over login and account information.  in a bid to shore up the poor security in ie 6  microsoft has regularly issued updates to patch loopholes exploited by criminals and the makers of nuisance programs such as spyware. earlier this month it released a security bulletin that patched eight critical security holes - some of which were found in the ie browser. microsoft has also made a series of acquisitions of small firms that specialise in computer security. one of the first fruits of these acquisitions appeared last month with the release of a microsoft anti-spyware program. an own-brand anti-virus program is due to follow by the end of 2005. the decision to make internet explorer 7 is widely seen as a u-turn because  before now  microsoft said it had no need to update the browser. typically new versions of its browser appear with successive versions of the windows operating system. a new version of ie was widely expected to debut with the next version of windows  codenamed longhorn  which is due to appear in 2006. the current version of internet explorer is four years old  and is widely seen as falling behind rivals such as firefox and opera. there are also persistent rumours that search engine google is poised to produce its own brand browser based on firefox. in particular the firefox browser has been winning fans and users since its first full version was released in november 2004. estimates of how many users firefox has won over vary widely. according to market statistics gathered by websidestory  firefox s market share is now about 5% of all users. however  other browser stat gatherers say the figure is closer to 15%. some technical websites report that a majority of their visitors use the firefox browser. internet explorer still dominates with a share of about 90% but this is down from a peak of almost 96% in mid-2004.\"\n        ],\n        \"semantic_type\": \"\",\n        \"description\": \"\"\n      }\n    }\n  ]\n}"
            }
          },
          "metadata": {},
          "execution_count": 35
        }
      ]
    },
    {
      "cell_type": "code",
      "source": [
        "no_of_classes = set(df['category'])\n",
        "no_of_classes"
      ],
      "metadata": {
        "colab": {
          "base_uri": "https://localhost:8080/"
        },
        "id": "G7c8rULu8LQZ",
        "outputId": "58ba39ae-8f92-4ff6-8335-0dbe795a14fc"
      },
      "execution_count": null,
      "outputs": [
        {
          "output_type": "execute_result",
          "data": {
            "text/plain": [
              "{'business', 'entertainment', 'politics', 'sport', 'tech'}"
            ]
          },
          "metadata": {},
          "execution_count": 36
        }
      ]
    },
    {
      "cell_type": "code",
      "source": [
        "#Analyzing data\n",
        "df.groupby('category').category.count()"
      ],
      "metadata": {
        "id": "PadVAxI17lgb",
        "colab": {
          "base_uri": "https://localhost:8080/"
        },
        "outputId": "5ca70795-e1b9-444a-fc84-d47aab8a17ef"
      },
      "execution_count": null,
      "outputs": [
        {
          "output_type": "execute_result",
          "data": {
            "text/plain": [
              "category\n",
              "business         510\n",
              "entertainment    386\n",
              "politics         417\n",
              "sport            511\n",
              "tech             401\n",
              "Name: category, dtype: int64"
            ]
          },
          "metadata": {},
          "execution_count": 37
        }
      ]
    },
    {
      "cell_type": "code",
      "source": [
        "df.groupby('category').text.count().plot.bar(ylim=0)\n",
        "plt.show()"
      ],
      "metadata": {
        "colab": {
          "base_uri": "https://localhost:8080/",
          "height": 535
        },
        "id": "sFda5Qv0S1VU",
        "outputId": "42ad5a1a-a2da-4daa-8806-60857af4f262"
      },
      "execution_count": null,
      "outputs": [
        {
          "output_type": "display_data",
          "data": {
            "text/plain": [
              "<Figure size 640x480 with 1 Axes>"
            ],
            "image/png": "[encoded data removed]"
          },
          "metadata": {}
        }
      ]
    },
    {
      "cell_type": "code",
      "source": [
        "#downloading stopwords\n",
        "nltk.download('stopwords')\n",
        "words = stopwords.words(\"english\")\n",
        "print(words)"
      ],
      "metadata": {
        "colab": {
          "base_uri": "https://localhost:8080/"
        },
        "id": "gKuB7vCnRbAa",
        "outputId": "230ba4d8-1cfe-4ea9-cda3-22466fc70e67"
      },
      "execution_count": null,
      "outputs": [
        {
          "output_type": "stream",
          "name": "stdout",
          "text": [
            "['i', 'me', 'my', 'myself', 'we', 'our', 'ours', 'ourselves', 'you', \"you're\", \"you've\", \"you'll\", \"you'd\", 'your', 'yours', 'yourself', 'yourselves', 'he', 'him', 'his', 'himself', 'she', \"she's\", 'her', 'hers', 'herself', 'it', \"it's\", 'its', 'itself', 'they', 'them', 'their', 'theirs', 'themselves', 'what', 'which', 'who', 'whom', 'this', 'that', \"that'll\", 'these', 'those', 'am', 'is', 'are', 'was', 'were', 'be', 'been', 'being', 'have', 'has', 'had', 'having', 'do', 'does', 'did', 'doing', 'a', 'an', 'the', 'and', 'but', 'if', 'or', 'because', 'as', 'until', 'while', 'of', 'at', 'by', 'for', 'with', 'about', 'against', 'between', 'into', 'through', 'during', 'before', 'after', 'above', 'below', 'to', 'from', 'up', 'down', 'in', 'out', 'on', 'off', 'over', 'under', 'again', 'further', 'then', 'once', 'here', 'there', 'when', 'where', 'why', 'how', 'all', 'any', 'both', 'each', 'few', 'more', 'most', 'other', 'some', 'such', 'no', 'nor', 'not', 'only', 'own', 'same', 'so', 'than', 'too', 'very', 's', 't', 'can', 'will', 'just', 'don', \"don't\", 'should', \"should've\", 'now', 'd', 'll', 'm', 'o', 're', 've', 'y', 'ain', 'aren', \"aren't\", 'couldn', \"couldn't\", 'didn', \"didn't\", 'doesn', \"doesn't\", 'hadn', \"hadn't\", 'hasn', \"hasn't\", 'haven', \"haven't\", 'isn', \"isn't\", 'ma', 'mightn', \"mightn't\", 'mustn', \"mustn't\", 'needn', \"needn't\", 'shan', \"shan't\", 'shouldn', \"shouldn't\", 'wasn', \"wasn't\", 'weren', \"weren't\", 'won', \"won't\", 'wouldn', \"wouldn't\"]\n"
          ]
        },
        {
          "output_type": "stream",
          "name": "stderr",
          "text": [
            "[nltk_data] Downloading package stopwords to /root/nltk_data...\n",
            "[nltk_data]   Package stopwords is already up-to-date!\n"
          ]
        }
      ]
    },
    {
      "cell_type": "code",
      "source": [
        "stemmer = PorterStemmer()\n",
        "stemmer.stem('computer')"
      ],
      "metadata": {
        "colab": {
          "base_uri": "https://localhost:8080/",
          "height": 35
        },
        "id": "Z8Gps9J-UiqV",
        "outputId": "bd0b7642-8959-4424-833c-c946532de4e7"
      },
      "execution_count": null,
      "outputs": [
        {
          "output_type": "execute_result",
          "data": {
            "text/plain": [
              "'comput'"
            ],
            "application/vnd.google.colaboratory.intrinsic+json": {
              "type": "string"
            }
          },
          "metadata": {},
          "execution_count": 40
        }
      ]
    },
    {
      "cell_type": "code",
      "source": [
        "plurals = ['computer','caresses', 'flies', 'dies', 'mules', 'denied',\n",
        "            'died', 'agreed', 'owned', 'humbled', 'sized',\n",
        "            'meeting', 'stating', 'siezing', 'itemization',\n",
        "            'sensational', 'traditional', 'reference', 'colonizer',\n",
        "           'plotted']\n",
        "singles = ' '.join([stemmer.stem(plural) for plural in plurals])\n",
        "singles"
      ],
      "metadata": {
        "id": "o7MDYUqRT8xW",
        "colab": {
          "base_uri": "https://localhost:8080/",
          "height": 53
        },
        "outputId": "9da8863f-a6cc-4b55-a7ca-a829fb2da1a9"
      },
      "execution_count": null,
      "outputs": [
        {
          "output_type": "execute_result",
          "data": {
            "text/plain": [
              "'comput caress fli die mule deni die agre own humbl size meet state siez item sensat tradit refer colon plot'"
            ],
            "application/vnd.google.colaboratory.intrinsic+json": {
              "type": "string"
            }
          },
          "metadata": {},
          "execution_count": 41
        }
      ]
    },
    {
      "cell_type": "code",
      "source": [
        "#stemmer\n",
        "stemmer = PorterStemmer()\n",
        "\n",
        "plurals = df['text'][0].split()\n",
        "singles = \" \".join([stemmer.stem(plural) for plural in plurals])\n",
        "singles"
      ],
      "metadata": {
        "colab": {
          "base_uri": "https://localhost:8080/",
          "height": 226
        },
        "id": "92cz_R6zWer5",
        "outputId": "1f55868e-acd9-4ca9-c597-5e092e06eb0d"
      },
      "execution_count": null,
      "outputs": [
        {
          "output_type": "execute_result",
          "data": {
            "text/plain": [
              "'tv futur in the hand of viewer with home theatr system plasma high-definit tv and digit video record move into the live room the way peopl watch tv will be radic differ in five year time. that is accord to an expert panel which gather at the annual consum electron show in la vega to discuss how these new technolog will impact one of our favourit pastimes. with the us lead the trend programm and other content will be deliv to viewer via home network through cabl satellit telecom compani and broadband servic provid to front room and portabl devices. one of the most talked-about technolog of ce ha been digit and person video record (dvr and pvr). these set-top box like the us s tivo and the uk s sky+ system allow peopl to record store play paus and forward wind tv programm when they want. essenti the technolog allow for much more personalis tv. they are also be built-in to high-definit tv set which are big busi in japan and the us but slower to take off in europ becaus of the lack of high-definit programming. not onli can peopl forward wind through advert they can also forget about abid by network and channel schedul put togeth their own a-la-cart entertainment. but some us network and cabl and satellit compani are worri about what it mean for them in term of advertis revenu as well as brand ident and viewer loyalti to channels. although the us lead in thi technolog at the moment it is also a concern that is be rais in europ particularli with the grow uptak of servic like sky+. what happen here today we will see in nine month to a year time in the uk adam hume the bbc broadcast s futurologist told the bbc news website. for the like of the bbc there are no issu of lost advertis revenu yet. it is a more press issu at the moment for commerci uk broadcast but brand loyalti is import for everyone. we will be talk more about content brand rather than network brand said tim hanlon from brand commun firm starcom mediavest. the realiti is that with broadband connect anybodi can be the produc of content. he added: the challeng now is that it is hard to promot a programm with so much choice. what thi mean said stacey jolna senior vice presid of tv guid tv group is that the way peopl find the content they want to watch ha to be simplifi for tv viewers. it mean that network in us term or channel could take a leaf out of googl s book and be the search engin of the futur instead of the schedul to help peopl find what they want to watch. thi kind of channel model might work for the younger ipod gener which is use to take control of their gadget and what they play on them. but it might not suit everyon the panel recognised. older gener are more comfort with familiar schedul and channel brand becaus they know what they are getting. they perhap do not want so much of the choic put into their hand mr hanlon suggested. on the other end you have the kid just out of diaper who are push button alreadi - everyth is possibl and avail to them said mr hanlon. ultim the consum will tell the market they want. of the 50 000 new gadget and technolog be showcas at ce mani of them are about enhanc the tv-watch experience. high-definit tv set are everywher and mani new model of lcd (liquid crystal display) tv have been launch with dvr capabl built into them instead of be extern boxes. one such exampl launch at the show is humax s 26-inch lcd tv with an 80-hour tivo dvr and dvd recorder. one of the us s biggest satellit tv compani directtv ha even launch it own brand dvr at the show with 100-hour of record capabl instant replay and a search function. the set can paus and rewind tv for up to 90 hours. and microsoft chief bill gate announc in hi pre-show keynot speech a partnership with tivo call tivotogo which mean peopl can play record programm on window pc and mobil devices. all these reflect the increas trend of free up multimedia so that peopl can watch what they want when they want.'"
            ],
            "application/vnd.google.colaboratory.intrinsic+json": {
              "type": "string"
            }
          },
          "metadata": {},
          "execution_count": 42
        }
      ]
    },
    {
      "cell_type": "code",
      "source": [
        "re.sub(\"[a-zA-Z]\", \" \", \"Hello World. I am Python!\")"
      ],
      "metadata": {
        "colab": {
          "base_uri": "https://localhost:8080/",
          "height": 35
        },
        "id": "4W8JYqEqXErF",
        "outputId": "acffa45f-32ae-42a4-b511-67ddc1992ae9"
      },
      "execution_count": null,
      "outputs": [
        {
          "output_type": "execute_result",
          "data": {
            "text/plain": [
              "'           .            !'"
            ],
            "application/vnd.google.colaboratory.intrinsic+json": {
              "type": "string"
            }
          },
          "metadata": {},
          "execution_count": 43
        }
      ]
    },
    {
      "cell_type": "code",
      "source": [
        "# Regex\n",
        "cleaned_data = lambda x: \"\".join([i for i in re.sub(\"[^a-zA-Z]\", \" \", x) ])\n",
        "cleaned_data(singles)"
      ],
      "metadata": {
        "colab": {
          "base_uri": "https://localhost:8080/",
          "height": 226
        },
        "id": "BVWbAo0FZLyV",
        "outputId": "01c0b77b-8034-48a0-c773-167e5dfa5f6d"
      },
      "execution_count": null,
      "outputs": [
        {
          "output_type": "execute_result",
          "data": {
            "text/plain": [
              "'tv futur in the hand of viewer with home theatr system plasma high definit tv and digit video record move into the live room the way peopl watch tv will be radic differ in five year time  that is accord to an expert panel which gather at the annual consum electron show in la vega to discuss how these new technolog will impact one of our favourit pastimes  with the us lead the trend programm and other content will be deliv to viewer via home network through cabl satellit telecom compani and broadband servic provid to front room and portabl devices  one of the most talked about technolog of ce ha been digit and person video record  dvr and pvr   these set top box like the us s tivo and the uk s sky  system allow peopl to record store play paus and forward wind tv programm when they want  essenti the technolog allow for much more personalis tv  they are also be built in to high definit tv set which are big busi in japan and the us but slower to take off in europ becaus of the lack of high definit programming  not onli can peopl forward wind through advert they can also forget about abid by network and channel schedul put togeth their own a la cart entertainment  but some us network and cabl and satellit compani are worri about what it mean for them in term of advertis revenu as well as brand ident and viewer loyalti to channels  although the us lead in thi technolog at the moment it is also a concern that is be rais in europ particularli with the grow uptak of servic like sky   what happen here today we will see in nine month to a year time in the uk adam hume the bbc broadcast s futurologist told the bbc news website  for the like of the bbc there are no issu of lost advertis revenu yet  it is a more press issu at the moment for commerci uk broadcast but brand loyalti is import for everyone  we will be talk more about content brand rather than network brand said tim hanlon from brand commun firm starcom mediavest  the realiti is that with broadband connect anybodi can be the produc of content  he added  the challeng now is that it is hard to promot a programm with so much choice  what thi mean said stacey jolna senior vice presid of tv guid tv group is that the way peopl find the content they want to watch ha to be simplifi for tv viewers  it mean that network in us term or channel could take a leaf out of googl s book and be the search engin of the futur instead of the schedul to help peopl find what they want to watch  thi kind of channel model might work for the younger ipod gener which is use to take control of their gadget and what they play on them  but it might not suit everyon the panel recognised  older gener are more comfort with familiar schedul and channel brand becaus they know what they are getting  they perhap do not want so much of the choic put into their hand mr hanlon suggested  on the other end you have the kid just out of diaper who are push button alreadi   everyth is possibl and avail to them said mr hanlon  ultim the consum will tell the market they want  of the        new gadget and technolog be showcas at ce mani of them are about enhanc the tv watch experience  high definit tv set are everywher and mani new model of lcd  liquid crystal display  tv have been launch with dvr capabl built into them instead of be extern boxes  one such exampl launch at the show is humax s    inch lcd tv with an    hour tivo dvr and dvd recorder  one of the us s biggest satellit tv compani directtv ha even launch it own brand dvr at the show with     hour of record capabl instant replay and a search function  the set can paus and rewind tv for up to    hours  and microsoft chief bill gate announc in hi pre show keynot speech a partnership with tivo call tivotogo which mean peopl can play record programm on window pc and mobil devices  all these reflect the increas trend of free up multimedia so that peopl can watch what they want when they want '"
            ],
            "application/vnd.google.colaboratory.intrinsic+json": {
              "type": "string"
            }
          },
          "metadata": {},
          "execution_count": 44
        }
      ]
    },
    {
      "cell_type": "code",
      "source": [
        "re.sub(\"[^a-zA-Z]\", \" \", singles)"
      ],
      "metadata": {
        "colab": {
          "base_uri": "https://localhost:8080/",
          "height": 226
        },
        "id": "rxZC226Pb7v3",
        "outputId": "20ae58f1-7d47-4c7b-88d8-37623b70e14a"
      },
      "execution_count": null,
      "outputs": [
        {
          "output_type": "execute_result",
          "data": {
            "text/plain": [
              "'tv futur in the hand of viewer with home theatr system plasma high definit tv and digit video record move into the live room the way peopl watch tv will be radic differ in five year time  that is accord to an expert panel which gather at the annual consum electron show in la vega to discuss how these new technolog will impact one of our favourit pastimes  with the us lead the trend programm and other content will be deliv to viewer via home network through cabl satellit telecom compani and broadband servic provid to front room and portabl devices  one of the most talked about technolog of ce ha been digit and person video record  dvr and pvr   these set top box like the us s tivo and the uk s sky  system allow peopl to record store play paus and forward wind tv programm when they want  essenti the technolog allow for much more personalis tv  they are also be built in to high definit tv set which are big busi in japan and the us but slower to take off in europ becaus of the lack of high definit programming  not onli can peopl forward wind through advert they can also forget about abid by network and channel schedul put togeth their own a la cart entertainment  but some us network and cabl and satellit compani are worri about what it mean for them in term of advertis revenu as well as brand ident and viewer loyalti to channels  although the us lead in thi technolog at the moment it is also a concern that is be rais in europ particularli with the grow uptak of servic like sky   what happen here today we will see in nine month to a year time in the uk adam hume the bbc broadcast s futurologist told the bbc news website  for the like of the bbc there are no issu of lost advertis revenu yet  it is a more press issu at the moment for commerci uk broadcast but brand loyalti is import for everyone  we will be talk more about content brand rather than network brand said tim hanlon from brand commun firm starcom mediavest  the realiti is that with broadband connect anybodi can be the produc of content  he added  the challeng now is that it is hard to promot a programm with so much choice  what thi mean said stacey jolna senior vice presid of tv guid tv group is that the way peopl find the content they want to watch ha to be simplifi for tv viewers  it mean that network in us term or channel could take a leaf out of googl s book and be the search engin of the futur instead of the schedul to help peopl find what they want to watch  thi kind of channel model might work for the younger ipod gener which is use to take control of their gadget and what they play on them  but it might not suit everyon the panel recognised  older gener are more comfort with familiar schedul and channel brand becaus they know what they are getting  they perhap do not want so much of the choic put into their hand mr hanlon suggested  on the other end you have the kid just out of diaper who are push button alreadi   everyth is possibl and avail to them said mr hanlon  ultim the consum will tell the market they want  of the        new gadget and technolog be showcas at ce mani of them are about enhanc the tv watch experience  high definit tv set are everywher and mani new model of lcd  liquid crystal display  tv have been launch with dvr capabl built into them instead of be extern boxes  one such exampl launch at the show is humax s    inch lcd tv with an    hour tivo dvr and dvd recorder  one of the us s biggest satellit tv compani directtv ha even launch it own brand dvr at the show with     hour of record capabl instant replay and a search function  the set can paus and rewind tv for up to    hours  and microsoft chief bill gate announc in hi pre show keynot speech a partnership with tivo call tivotogo which mean peopl can play record programm on window pc and mobil devices  all these reflect the increas trend of free up multimedia so that peopl can watch what they want when they want '"
            ],
            "application/vnd.google.colaboratory.intrinsic+json": {
              "type": "string"
            }
          },
          "metadata": {},
          "execution_count": 45
        }
      ]
    },
    {
      "cell_type": "code",
      "source": [
        "\" \".join([stemmer.stem(i) for i in re.sub(\"[^a-zA-Z]\", \" \", singles).split()])"
      ],
      "metadata": {
        "colab": {
          "base_uri": "https://localhost:8080/",
          "height": 226
        },
        "id": "D56_4UKZYm8Q",
        "outputId": "5121e25f-7d43-4122-8920-deb27b0420db"
      },
      "execution_count": null,
      "outputs": [
        {
          "output_type": "execute_result",
          "data": {
            "text/plain": [
              "'tv futur in the hand of viewer with home theatr system plasma high definit tv and digit video record move into the live room the way peopl watch tv will be radic differ in five year time that is accord to an expert panel which gather at the annual consum electron show in la vega to discuss how these new technolog will impact one of our favourit pastim with the us lead the trend programm and other content will be deliv to viewer via home network through cabl satellit telecom compani and broadband servic provid to front room and portabl devic one of the most talk about technolog of ce ha been digit and person video record dvr and pvr these set top box like the us s tivo and the uk s sky system allow peopl to record store play pau and forward wind tv programm when they want essenti the technolog allow for much more personali tv they are also be built in to high definit tv set which are big busi in japan and the us but slower to take off in europ becau of the lack of high definit program not onli can peopl forward wind through advert they can also forget about abid by network and channel schedul put togeth their own a la cart entertain but some us network and cabl and satellit compani are worri about what it mean for them in term of adverti revenu as well as brand ident and viewer loyalti to channel although the us lead in thi technolog at the moment it is also a concern that is be rai in europ particularli with the grow uptak of servic like sky what happen here today we will see in nine month to a year time in the uk adam hume the bbc broadcast s futurologist told the bbc news websit for the like of the bbc there are no issu of lost adverti revenu yet it is a more press issu at the moment for commerci uk broadcast but brand loyalti is import for everyon we will be talk more about content brand rather than network brand said tim hanlon from brand commun firm starcom mediavest the realiti is that with broadband connect anybodi can be the produc of content he ad the challeng now is that it is hard to promot a programm with so much choic what thi mean said stacey jolna senior vice presid of tv guid tv group is that the way peopl find the content they want to watch ha to be simplifi for tv viewer it mean that network in us term or channel could take a leaf out of googl s book and be the search engin of the futur instead of the schedul to help peopl find what they want to watch thi kind of channel model might work for the younger ipod gener which is use to take control of their gadget and what they play on them but it might not suit everyon the panel recognis older gener are more comfort with familiar schedul and channel brand becau they know what they are get they perhap do not want so much of the choic put into their hand mr hanlon suggest on the other end you have the kid just out of diaper who are push button alreadi everyth is possibl and avail to them said mr hanlon ultim the consum will tell the market they want of the new gadget and technolog be showca at ce mani of them are about enhanc the tv watch experi high definit tv set are everywh and mani new model of lcd liquid crystal display tv have been launch with dvr capabl built into them instead of be extern box one such exampl launch at the show is humax s inch lcd tv with an hour tivo dvr and dvd record one of the us s biggest satellit tv compani directtv ha even launch it own brand dvr at the show with hour of record capabl instant replay and a search function the set can pau and rewind tv for up to hour and microsoft chief bill gate announc in hi pre show keynot speech a partnership with tivo call tivotogo which mean peopl can play record programm on window pc and mobil devic all these reflect the increa trend of free up multimedia so that peopl can watch what they want when they want'"
            ],
            "application/vnd.google.colaboratory.intrinsic+json": {
              "type": "string"
            }
          },
          "metadata": {},
          "execution_count": 46
        }
      ]
    },
    {
      "cell_type": "code",
      "source": [
        "stop_words = ['i', 'me', 'my', 'myself', 'we', 'our', 'ours', 'ourselves', 'you', \"you're\", \"you've\", \"you'll\", \"you'd\", 'your', 'yours', 'yourself', 'yourselves', 'he', 'him', 'his', 'himself', 'she', \"she's\", 'her', 'hers', 'herself', 'it', \"it's\", 'its', 'itself', 'they', 'them', 'their', 'theirs', 'themselves', 'what', 'which', 'who', 'whom', 'this', 'that', \"that'll\", 'these', 'those', 'am', 'is', 'are', 'was', 'were', 'be', 'been', 'being', 'have', 'has', 'had', 'having', 'do', 'does', 'did', 'doing', 'a', 'an', 'the', 'and', 'but', 'if', 'or', 'because', 'as', 'until', 'while', 'of', 'at', 'by', 'for', 'with', 'about', 'against', 'between', 'into', 'through', 'during', 'before', 'after', 'above', 'below', 'to', 'from', 'up', 'down', 'in', 'out', 'on', 'off', 'over', 'under', 'again', 'further', 'then', 'once', 'here', 'there', 'when', 'where', 'why', 'how', 'all', 'any', 'both', 'each', 'few', 'more', 'most', 'other', 'some', 'such', 'no', 'nor', 'not', 'only', 'own', 'same', 'so', 'than', 'too', 'very', 's', 't', 'can', 'will', 'just', 'don', \"don't\", 'should', \"should've\", 'now', 'd', 'll', 'm', 'o', 're', 've', 'y', 'ain', 'aren', \"aren't\", 'couldn', \"couldn't\", 'didn', \"didn't\", 'doesn', \"doesn't\", 'hadn', \"hadn't\", 'hasn', \"hasn't\", 'haven', \"haven't\", 'isn', \"isn't\", 'ma', 'mightn', \"mightn't\", 'mustn', \"mustn't\", 'needn', \"needn't\", 'shan', \"shan't\", 'shouldn', \"shouldn't\", 'wasn', \"wasn't\", 'weren', \"weren't\", 'won', \"won't\", 'wouldn', \"wouldn't\"]\n",
        "data = re.sub(\"[^a-zA-Z]\", \" \", df['text'][0]).split()\n",
        "for st in stop_words:\n",
        "  c = data.count(st)\n",
        "  for i in range(c):\n",
        "    data.remove(st)\n",
        "\n",
        "\" \".join(data)"
      ],
      "metadata": {
        "colab": {
          "base_uri": "https://localhost:8080/",
          "height": 226
        },
        "id": "K66e9XCU4toy",
        "outputId": "86c8ca28-e28e-4122-e5b0-09c421f1845f"
      },
      "execution_count": null,
      "outputs": [
        {
          "output_type": "execute_result",
          "data": {
            "text/plain": [
              "'tv future hands viewers home theatre systems plasma high definition tvs digital video recorders moving living room way people watch tv radically different five years time according expert panel gathered annual consumer electronics show las vegas discuss new technologies impact one favourite pastimes us leading trend programmes content delivered viewers via home networks cable satellite telecoms companies broadband service providers front rooms portable devices one talked technologies ces digital personal video recorders dvr pvr set top boxes like us tivo uk sky system allow people record store play pause forward wind tv programmes want essentially technology allows much personalised tv also built high definition tv sets big business japan us slower take europe lack high definition programming people forward wind adverts also forget abiding network channel schedules putting together la carte entertainment us networks cable satellite companies worried means terms advertising revenues well brand identity viewer loyalty channels although us leads technology moment also concern raised europe particularly growing uptake services like sky happens today see nine months years time uk adam hume bbc broadcast futurologist told bbc news website likes bbc issues lost advertising revenue yet pressing issue moment commercial uk broadcasters brand loyalty important everyone talking content brands rather network brands said tim hanlon brand communications firm starcom mediavest reality broadband connections anybody producer content added challenge hard promote programme much choice means said stacey jolna senior vice president tv guide tv group way people find content want watch simplified tv viewers means networks us terms channels could take leaf google book search engine future instead scheduler help people find want watch kind channel model might work younger ipod generation used taking control gadgets play might suit everyone panel recognised older generations comfortable familiar schedules channel brands know getting perhaps want much choice put hands mr hanlon suggested end kids diapers pushing buttons already everything possible available said mr hanlon ultimately consumer tell market want new gadgets technologies showcased ces many enhancing tv watching experience high definition tv sets everywhere many new models lcd liquid crystal display tvs launched dvr capability built instead external boxes one example launched show humax inch lcd tv hour tivo dvr dvd recorder one us biggest satellite tv companies directtv even launched branded dvr show hours recording capability instant replay search function set pause rewind tv hours microsoft chief bill gates announced pre show keynote speech partnership tivo called tivotogo means people play recorded programmes windows pcs mobile devices reflect increasing trend freeing multimedia people watch want want'"
            ],
            "application/vnd.google.colaboratory.intrinsic+json": {
              "type": "string"
            }
          },
          "metadata": {},
          "execution_count": 47
        }
      ]
    },
    {
      "cell_type": "code",
      "source": [
        "df['text']"
      ],
      "metadata": {
        "colab": {
          "base_uri": "https://localhost:8080/"
        },
        "id": "l12Ne4Gt8vxe",
        "outputId": "4ee9d282-b781-424b-90ca-fee8d5908e63"
      },
      "execution_count": null,
      "outputs": [
        {
          "output_type": "execute_result",
          "data": {
            "text/plain": [
              "824     prime minister s questions so who  if anyone  ...\n",
              "553     games win for blu-ray dvd format the next-gene...\n",
              "163     musical treatment for capra film the classic f...\n",
              "756     hotspot users gain free net calls people using...\n",
              "718     apple attacked over sources row civil libertie...\n",
              "                              ...                        \n",
              "488     pavey focuses on indoor success jo pavey will ...\n",
              "1530    ford gains from finance not cars ford  the us ...\n",
              "795     desailly backs blues revenge trip marcel desai...\n",
              "1720    mandelson warning to bbc the bbc should steer ...\n",
              "529     newcastle line up babayaro newcastle manager g...\n",
              "Name: text, Length: 2225, dtype: object"
            ]
          },
          "metadata": {},
          "execution_count": 48
        }
      ]
    },
    {
      "cell_type": "code",
      "source": [
        "#cleaning dataset\n",
        "nltk.download('stopwords')\n",
        "words = stopwords.words(\"english\")\n",
        "df['cleaned'] = df['text'].apply(lambda x: \" \".join([stemmer.stem(i) for i in re.sub(\"[^a-zA-Z]\", \" \", x).split() if i not in words]).lower())"
      ],
      "metadata": {
        "colab": {
          "base_uri": "https://localhost:8080/"
        },
        "id": "IL-p5ILB90nL",
        "outputId": "0a363019-447d-4852-ed32-53d41d29a0a6"
      },
      "execution_count": null,
      "outputs": [
        {
          "output_type": "stream",
          "name": "stderr",
          "text": [
            "[nltk_data] Downloading package stopwords to /root/nltk_data...\n",
            "[nltk_data]   Package stopwords is already up-to-date!\n"
          ]
        }
      ]
    },
    {
      "cell_type": "code",
      "source": [
        "df"
      ],
      "metadata": {
        "colab": {
          "base_uri": "https://localhost:8080/",
          "height": 597
        },
        "id": "aCx40-bg9iPs",
        "outputId": "9b3d22a1-4942-4844-fc51-fc27b51ba73d"
      },
      "execution_count": null,
      "outputs": [
        {
          "output_type": "execute_result",
          "data": {
            "text/plain": [
              "           category                                               text  \\\n",
              "824        politics  prime minister s questions so who  if anyone  ...   \n",
              "553            tech  games win for blu-ray dvd format the next-gene...   \n",
              "163   entertainment  musical treatment for capra film the classic f...   \n",
              "756            tech  hotspot users gain free net calls people using...   \n",
              "718            tech  apple attacked over sources row civil libertie...   \n",
              "...             ...                                                ...   \n",
              "488           sport  pavey focuses on indoor success jo pavey will ...   \n",
              "1530       business  ford gains from finance not cars ford  the us ...   \n",
              "795           sport  desailly backs blues revenge trip marcel desai...   \n",
              "1720       politics  mandelson warning to bbc the bbc should steer ...   \n",
              "529           sport  newcastle line up babayaro newcastle manager g...   \n",
              "\n",
              "                                                cleaned  \n",
              "824   prime minist question anyon play polit secur n...  \n",
              "553   game win blu ray dvd format next gener dvd for...  \n",
              "163   music treatment capra film classic film wonder...  \n",
              "756   hotspot user gain free net call peopl use wire...  \n",
              "718   appl attack sourc row civil liberti group elec...  \n",
              "...                                                 ...  \n",
              "488   pavey focus indoor success jo pavey miss janua...  \n",
              "1530  ford gain financ car ford us car compani repor...  \n",
              "795   desailli back blue reveng trip marcel desailli...  \n",
              "1720  mandelson warn bbc bbc steer away demonis ex d...  \n",
              "529   newcastl line babayaro newcastl manag graem so...  \n",
              "\n",
              "[2225 rows x 3 columns]"
            ],
            "text/html": [
              "\n",
              "  <div id=\"df-bd10accb-c794-4a40-b777-a11e2e74f5a9\" class=\"colab-df-container\">\n",
              "    <div>\n",
              "<style scoped>\n",
              "    .dataframe tbody tr th:only-of-type {\n",
              "        vertical-align: middle;\n",
              "    }\n",
              "\n",
              "    .dataframe tbody tr th {\n",
              "        vertical-align: top;\n",
              "    }\n",
              "\n",
              "    .dataframe thead th {\n",
              "        text-align: right;\n",
              "    }\n",
              "</style>\n",
              "<table border=\"1\" class=\"dataframe\">\n",
              "  <thead>\n",
              "    <tr style=\"text-align: right;\">\n",
              "      <th></th>\n",
              "      <th>category</th>\n",
              "      <th>text</th>\n",
              "      <th>cleaned</th>\n",
              "    </tr>\n",
              "  </thead>\n",
              "  <tbody>\n",
              "    <tr>\n",
              "      <th>824</th>\n",
              "      <td>politics</td>\n",
              "      <td>prime minister s questions so who  if anyone  ...</td>\n",
              "      <td>prime minist question anyon play polit secur n...</td>\n",
              "    </tr>\n",
              "    <tr>\n",
              "      <th>553</th>\n",
              "      <td>tech</td>\n",
              "      <td>games win for blu-ray dvd format the next-gene...</td>\n",
              "      <td>game win blu ray dvd format next gener dvd for...</td>\n",
              "    </tr>\n",
              "    <tr>\n",
              "      <th>163</th>\n",
              "      <td>entertainment</td>\n",
              "      <td>musical treatment for capra film the classic f...</td>\n",
              "      <td>music treatment capra film classic film wonder...</td>\n",
              "    </tr>\n",
              "    <tr>\n",
              "      <th>756</th>\n",
              "      <td>tech</td>\n",
              "      <td>hotspot users gain free net calls people using...</td>\n",
              "      <td>hotspot user gain free net call peopl use wire...</td>\n",
              "    </tr>\n",
              "    <tr>\n",
              "      <th>718</th>\n",
              "      <td>tech</td>\n",
              "      <td>apple attacked over sources row civil libertie...</td>\n",
              "      <td>appl attack sourc row civil liberti group elec...</td>\n",
              "    </tr>\n",
              "    <tr>\n",
              "      <th>...</th>\n",
              "      <td>...</td>\n",
              "      <td>...</td>\n",
              "      <td>...</td>\n",
              "    </tr>\n",
              "    <tr>\n",
              "      <th>488</th>\n",
              "      <td>sport</td>\n",
              "      <td>pavey focuses on indoor success jo pavey will ...</td>\n",
              "      <td>pavey focus indoor success jo pavey miss janua...</td>\n",
              "    </tr>\n",
              "    <tr>\n",
              "      <th>1530</th>\n",
              "      <td>business</td>\n",
              "      <td>ford gains from finance not cars ford  the us ...</td>\n",
              "      <td>ford gain financ car ford us car compani repor...</td>\n",
              "    </tr>\n",
              "    <tr>\n",
              "      <th>795</th>\n",
              "      <td>sport</td>\n",
              "      <td>desailly backs blues revenge trip marcel desai...</td>\n",
              "      <td>desailli back blue reveng trip marcel desailli...</td>\n",
              "    </tr>\n",
              "    <tr>\n",
              "      <th>1720</th>\n",
              "      <td>politics</td>\n",
              "      <td>mandelson warning to bbc the bbc should steer ...</td>\n",
              "      <td>mandelson warn bbc bbc steer away demonis ex d...</td>\n",
              "    </tr>\n",
              "    <tr>\n",
              "      <th>529</th>\n",
              "      <td>sport</td>\n",
              "      <td>newcastle line up babayaro newcastle manager g...</td>\n",
              "      <td>newcastl line babayaro newcastl manag graem so...</td>\n",
              "    </tr>\n",
              "  </tbody>\n",
              "</table>\n",
              "<p>2225 rows × 3 columns</p>\n",
              "</div>\n",
              "    <div class=\"colab-df-buttons\">\n",
              "\n",
              "  <div class=\"colab-df-container\">\n",
              "    <button class=\"colab-df-convert\" onclick=\"convertToInteractive('df-bd10accb-c794-4a40-b777-a11e2e74f5a9')\"\n",
              "            title=\"Convert this dataframe to an interactive table.\"\n",
              "            style=\"display:none;\">\n",
              "\n",
              "  <svg xmlns=\"http://www.w3.org/2000/svg\" height=\"24px\" viewBox=\"0 -960 960 960\">\n",
              "    <path d=\"M120-120v-720h720v720H120Zm60-500h600v-160H180v160Zm220 220h160v-160H400v160Zm0 220h160v-160H400v160ZM180-400h160v-160H180v160Zm440 0h160v-160H620v160ZM180-180h160v-160H180v160Zm440 0h160v-160H620v160Z\"/>\n",
              "  </svg>\n",
              "    </button>\n",
              "\n",
              "  <style>\n",
              "    .colab-df-container {\n",
              "      display:flex;\n",
              "      gap: 12px;\n",
              "    }\n",
              "\n",
              "    .colab-df-convert {\n",
              "      background-color: #E8F0FE;\n",
              "      border: none;\n",
              "      border-radius: 50%;\n",
              "      cursor: pointer;\n",
              "      display: none;\n",
              "      fill: #1967D2;\n",
              "      height: 32px;\n",
              "      padding: 0 0 0 0;\n",
              "      width: 32px;\n",
              "    }\n",
              "\n",
              "    .colab-df-convert:hover {\n",
              "      background-color: #E2EBFA;\n",
              "      box-shadow: 0px 1px 2px rgba(60, 64, 67, 0.3), 0px 1px 3px 1px rgba(60, 64, 67, 0.15);\n",
              "      fill: #174EA6;\n",
              "    }\n",
              "\n",
              "    .colab-df-buttons div {\n",
              "      margin-bottom: 4px;\n",
              "    }\n",
              "\n",
              "    [theme=dark] .colab-df-convert {\n",
              "      background-color: #3B4455;\n",
              "      fill: #D2E3FC;\n",
              "    }\n",
              "\n",
              "    [theme=dark] .colab-df-convert:hover {\n",
              "      background-color: #434B5C;\n",
              "      box-shadow: 0px 1px 3px 1px rgba(0, 0, 0, 0.15);\n",
              "      filter: drop-shadow(0px 1px 2px rgba(0, 0, 0, 0.3));\n",
              "      fill: #FFFFFF;\n",
              "    }\n",
              "  </style>\n",
              "\n",
              "    <script>\n",
              "      const buttonEl =\n",
              "        document.querySelector('#df-bd10accb-c794-4a40-b777-a11e2e74f5a9 button.colab-df-convert');\n",
              "      buttonEl.style.display =\n",
              "        google.colab.kernel.accessAllowed ? 'block' : 'none';\n",
              "\n",
              "      async function convertToInteractive(key) {\n",
              "        const element = document.querySelector('#df-bd10accb-c794-4a40-b777-a11e2e74f5a9');\n",
              "        const dataTable =\n",
              "          await google.colab.kernel.invokeFunction('convertToInteractive',\n",
              "                                                    [key], {});\n",
              "        if (!dataTable) return;\n",
              "\n",
              "        const docLinkHtml = 'Like what you see? Visit the ' +\n",
              "          '<a target=\"_blank\" href=https://colab.research.google.com/notebooks/data_table.ipynb>data table notebook</a>'\n",
              "          + ' to learn more about interactive tables.';\n",
              "        element.innerHTML = '';\n",
              "        dataTable['output_type'] = 'display_data';\n",
              "        await google.colab.output.renderOutput(dataTable, element);\n",
              "        const docLink = document.createElement('div');\n",
              "        docLink.innerHTML = docLinkHtml;\n",
              "        element.appendChild(docLink);\n",
              "      }\n",
              "    </script>\n",
              "  </div>\n",
              "\n",
              "\n",
              "<div id=\"df-ab19c959-dfca-4ef4-89ae-8302210b7dda\">\n",
              "  <button class=\"colab-df-quickchart\" onclick=\"quickchart('df-ab19c959-dfca-4ef4-89ae-8302210b7dda')\"\n",
              "            title=\"Suggest charts\"\n",
              "            style=\"display:none;\">\n",
              "\n",
              "<svg xmlns=\"http://www.w3.org/2000/svg\" height=\"24px\"viewBox=\"0 0 24 24\"\n",
              "     width=\"24px\">\n",
              "    <g>\n",
              "        <path d=\"M19 3H5c-1.1 0-2 .9-2 2v14c0 1.1.9 2 2 2h14c1.1 0 2-.9 2-2V5c0-1.1-.9-2-2-2zM9 17H7v-7h2v7zm4 0h-2V7h2v10zm4 0h-2v-4h2v4z\"/>\n",
              "    </g>\n",
              "</svg>\n",
              "  </button>\n",
              "\n",
              "<style>\n",
              "  .colab-df-quickchart {\n",
              "      --bg-color: #E8F0FE;\n",
              "      --fill-color: #1967D2;\n",
              "      --hover-bg-color: #E2EBFA;\n",
              "      --hover-fill-color: #174EA6;\n",
              "      --disabled-fill-color: #AAA;\n",
              "      --disabled-bg-color: #DDD;\n",
              "  }\n",
              "\n",
              "  [theme=dark] .colab-df-quickchart {\n",
              "      --bg-color: #3B4455;\n",
              "      --fill-color: #D2E3FC;\n",
              "      --hover-bg-color: #434B5C;\n",
              "      --hover-fill-color: #FFFFFF;\n",
              "      --disabled-bg-color: #3B4455;\n",
              "      --disabled-fill-color: #666;\n",
              "  }\n",
              "\n",
              "  .colab-df-quickchart {\n",
              "    background-color: var(--bg-color);\n",
              "    border: none;\n",
              "    border-radius: 50%;\n",
              "    cursor: pointer;\n",
              "    display: none;\n",
              "    fill: var(--fill-color);\n",
              "    height: 32px;\n",
              "    padding: 0;\n",
              "    width: 32px;\n",
              "  }\n",
              "\n",
              "  .colab-df-quickchart:hover {\n",
              "    background-color: var(--hover-bg-color);\n",
              "    box-shadow: 0 1px 2px rgba(60, 64, 67, 0.3), 0 1px 3px 1px rgba(60, 64, 67, 0.15);\n",
              "    fill: var(--button-hover-fill-color);\n",
              "  }\n",
              "\n",
              "  .colab-df-quickchart-complete:disabled,\n",
              "  .colab-df-quickchart-complete:disabled:hover {\n",
              "    background-color: var(--disabled-bg-color);\n",
              "    fill: var(--disabled-fill-color);\n",
              "    box-shadow: none;\n",
              "  }\n",
              "\n",
              "  .colab-df-spinner {\n",
              "    border: 2px solid var(--fill-color);\n",
              "    border-color: transparent;\n",
              "    border-bottom-color: var(--fill-color);\n",
              "    animation:\n",
              "      spin 1s steps(1) infinite;\n",
              "  }\n",
              "\n",
              "  @keyframes spin {\n",
              "    0% {\n",
              "      border-color: transparent;\n",
              "      border-bottom-color: var(--fill-color);\n",
              "      border-left-color: var(--fill-color);\n",
              "    }\n",
              "    20% {\n",
              "      border-color: transparent;\n",
              "      border-left-color: var(--fill-color);\n",
              "      border-top-color: var(--fill-color);\n",
              "    }\n",
              "    30% {\n",
              "      border-color: transparent;\n",
              "      border-left-color: var(--fill-color);\n",
              "      border-top-color: var(--fill-color);\n",
              "      border-right-color: var(--fill-color);\n",
              "    }\n",
              "    40% {\n",
              "      border-color: transparent;\n",
              "      border-right-color: var(--fill-color);\n",
              "      border-top-color: var(--fill-color);\n",
              "    }\n",
              "    60% {\n",
              "      border-color: transparent;\n",
              "      border-right-color: var(--fill-color);\n",
              "    }\n",
              "    80% {\n",
              "      border-color: transparent;\n",
              "      border-right-color: var(--fill-color);\n",
              "      border-bottom-color: var(--fill-color);\n",
              "    }\n",
              "    90% {\n",
              "      border-color: transparent;\n",
              "      border-bottom-color: var(--fill-color);\n",
              "    }\n",
              "  }\n",
              "</style>\n",
              "\n",
              "  <script>\n",
              "    async function quickchart(key) {\n",
              "      const quickchartButtonEl =\n",
              "        document.querySelector('#' + key + ' button');\n",
              "      quickchartButtonEl.disabled = true;  // To prevent multiple clicks.\n",
              "      quickchartButtonEl.classList.add('colab-df-spinner');\n",
              "      try {\n",
              "        const charts = await google.colab.kernel.invokeFunction(\n",
              "            'suggestCharts', [key], {});\n",
              "      } catch (error) {\n",
              "        console.error('Error during call to suggestCharts:', error);\n",
              "      }\n",
              "      quickchartButtonEl.classList.remove('colab-df-spinner');\n",
              "      quickchartButtonEl.classList.add('colab-df-quickchart-complete');\n",
              "    }\n",
              "    (() => {\n",
              "      let quickchartButtonEl =\n",
              "        document.querySelector('#df-ab19c959-dfca-4ef4-89ae-8302210b7dda button');\n",
              "      quickchartButtonEl.style.display =\n",
              "        google.colab.kernel.accessAllowed ? 'block' : 'none';\n",
              "    })();\n",
              "  </script>\n",
              "</div>\n",
              "\n",
              "  <div id=\"id_60be8e37-6b31-4b16-b425-2b0a6e7c1ecf\">\n",
              "    <style>\n",
              "      .colab-df-generate {\n",
              "        background-color: #E8F0FE;\n",
              "        border: none;\n",
              "        border-radius: 50%;\n",
              "        cursor: pointer;\n",
              "        display: none;\n",
              "        fill: #1967D2;\n",
              "        height: 32px;\n",
              "        padding: 0 0 0 0;\n",
              "        width: 32px;\n",
              "      }\n",
              "\n",
              "      .colab-df-generate:hover {\n",
              "        background-color: #E2EBFA;\n",
              "        box-shadow: 0px 1px 2px rgba(60, 64, 67, 0.3), 0px 1px 3px 1px rgba(60, 64, 67, 0.15);\n",
              "        fill: #174EA6;\n",
              "      }\n",
              "\n",
              "      [theme=dark] .colab-df-generate {\n",
              "        background-color: #3B4455;\n",
              "        fill: #D2E3FC;\n",
              "      }\n",
              "\n",
              "      [theme=dark] .colab-df-generate:hover {\n",
              "        background-color: #434B5C;\n",
              "        box-shadow: 0px 1px 3px 1px rgba(0, 0, 0, 0.15);\n",
              "        filter: drop-shadow(0px 1px 2px rgba(0, 0, 0, 0.3));\n",
              "        fill: #FFFFFF;\n",
              "      }\n",
              "    </style>\n",
              "    <button class=\"colab-df-generate\" onclick=\"generateWithVariable('df')\"\n",
              "            title=\"Generate code using this dataframe.\"\n",
              "            style=\"display:none;\">\n",
              "\n",
              "  <svg xmlns=\"http://www.w3.org/2000/svg\" height=\"24px\"viewBox=\"0 0 24 24\"\n",
              "       width=\"24px\">\n",
              "    <path d=\"M7,19H8.4L18.45,9,17,7.55,7,17.6ZM5,21V16.75L18.45,3.32a2,2,0,0,1,2.83,0l1.4,1.43a1.91,1.91,0,0,1,.58,1.4,1.91,1.91,0,0,1-.58,1.4L9.25,21ZM18.45,9,17,7.55Zm-12,3A5.31,5.31,0,0,0,4.9,8.1,5.31,5.31,0,0,0,1,6.5,5.31,5.31,0,0,0,4.9,4.9,5.31,5.31,0,0,0,6.5,1,5.31,5.31,0,0,0,8.1,4.9,5.31,5.31,0,0,0,12,6.5,5.46,5.46,0,0,0,6.5,12Z\"/>\n",
              "  </svg>\n",
              "    </button>\n",
              "    <script>\n",
              "      (() => {\n",
              "      const buttonEl =\n",
              "        document.querySelector('#id_60be8e37-6b31-4b16-b425-2b0a6e7c1ecf button.colab-df-generate');\n",
              "      buttonEl.style.display =\n",
              "        google.colab.kernel.accessAllowed ? 'block' : 'none';\n",
              "\n",
              "      buttonEl.onclick = () => {\n",
              "        google.colab.notebook.generateWithVariable('df');\n",
              "      }\n",
              "      })();\n",
              "    </script>\n",
              "  </div>\n",
              "\n",
              "    </div>\n",
              "  </div>\n"
            ],
            "application/vnd.google.colaboratory.intrinsic+json": {
              "type": "dataframe",
              "variable_name": "df",
              "summary": "{\n  \"name\": \"df\",\n  \"rows\": 2225,\n  \"fields\": [\n    {\n      \"column\": \"category\",\n      \"properties\": {\n        \"dtype\": \"category\",\n        \"num_unique_values\": 5,\n        \"samples\": [\n          \"tech\",\n          \"business\",\n          \"entertainment\"\n        ],\n        \"semantic_type\": \"\",\n        \"description\": \"\"\n      }\n    },\n    {\n      \"column\": \"text\",\n      \"properties\": {\n        \"dtype\": \"string\",\n        \"num_unique_values\": 2126,\n        \"samples\": [\n          \"uk economy ends year with spurt the uk economy grew by an estimated 3.1% in 2004 after accelerating in the last quarter of the year  says the office for national statistics (ons).  the figure is in line with treasury and bank of england forecasts. the ons says gross domestic product (gdp) rose by a strong 0.7% in the three months to 31 december  compared with 0.5% in the previous quarter. the rise came despite a further decline in production output and the worst christmas for retailers in decades.  the annual figure marked out the best year since 2000  and was also well ahead of the 2.2% recorded in 2003. growth in the final three months of 2004 marked the 50th consecutive quarter of expansion.  on the basis of the latest information the uk has entered 2005 on course to continue its record period of growth   said paul boateng  chief secretary to the treasury in a statement.  the ons said the services sector  which accounts for nearly three-quarters of the uk economy  grew 1.0% in the quarter. the strong services figure was welcomed by analysts  given lacklustre retail sales in december and across the christmas holiday period.  the fact that other services components are doing so well suggests to me that we are back to trend (growth) and i am not particularly concerned about any further slowdown   said ross walker  uk economist at rbs financial markets.  however  output in the production sector contracted 0.5%  the second quarterly fall in row and a state of affairs that some economists classify as a recession. however the ons would not comment on the definition of a recession and whether the manufacturing recovery was over. but steve radley  chief economist at the manufacturers  organisation eef  said:  these figures remain at odds with what is actually happening on the ground.  whilst companies may be experiencing tougher conditions this year   recession  is not a word that manufacturers would currently recognise.  the ons said a sharp fall in mining and quarrying  which was driven by oil and gas extraction  was primarily responsible for the overall contraction in manufacturing production figures.  simon rubinsohn  chief economist at gerrard  said:  this outturn (of 0.7%) was well ahead of the market expectations and cast doubt on the scare stories doing the rounds surrounding the current state of the uk economy.  and he said the gdp figures may help to  push interest rate expectations a little higher along the curve .  the suggestion from the money markets is that the next move is now more likely to be in an upward rather than a downward direction. this is consistent with our own thinking   said mr rubinsohn. the bank of england s nine-strong rate-setting committee voted unanimously earlier this month to keep interest rates steady at 4.75%  minutes of the meeting showed on wednesday.\",\n          \"whitehall cuts  ahead of target  thousands of civil service jobs have already been cut or moved out of london as part of a major cost-cutting drive.  chancellor gordon brown said 12 500 jobs had gone while 7 800 were being moved out of the south east. he plans to axe 104 000 jobs to free up money for education  health  defence  housing and overseas aid. unions oppose the plans but mr brown said \\u00a32bn savings had already been made and more jobs had been cut than had been expected at this stage. a further 200 jobs at the department of the environment  food and rural affairs have been earmarked to be cut. at the department for work and pensions  30 000 jobs are to go  560 will be lost by the end of the month at the department of trade and industry and 400 are to go at the inland revenue and customs.  in his budget statement  the chancellor said the first 12 500 civil service jobs had been cut  on target. about 4 300 civil servants will leave london and the south east by the end of march 2005 and there are plans to relocate another 3 500. of those 300 department of health posts will go to yorkshire while hundreds at the department of culture will move to birmingham and newcastle.  mr brown also announced plans to merge 35 agencies into nine - described by one civil service union as a  bonfire of the quangos . mark serwotka  the leader of the public and commercial services union said:  in last year s budget we had the day of the long knifes as the chancellor kicked off the crude game of who could cut the most civil service jobs between the government and the tories.  there was a time when the only worry thousands of hard working civil and public servants had on budget day was whether petrol or taxes would go up  nowadays the worry is whether they will have a job by the end of it.  he said mr brown had made welcome announcements on closing tax loopholes and extending the new deal  while cutting  the very people who deliver them.  the treasury also announced plans to reduce the number of public sector workers on sick leave with a new system of checks and tougher measures against those suspected of abusing the system.\",\n          \"security scares spark browser fix microsoft is working on a new version of its internet explorer web browser.  the revamp has been prompted by microsoft s growing concern with security as well as increased competition from rival browsers. microsoft said the new version will be far less vulnerable to the bugs that make its current browser a favourite of tech-savvy criminals. test versions of the new program  called ie 7  are due to be released by the summer.  the announcement about internet explorer was made by bill gates  microsoft chairman and chief software architect  during a keynote speech at the rsa security conference currently being held in san francisco. although details were scant  mr gates  said ie7 would include new protections against viruses  spyware and phishing scams. this last category of threats involves criminals setting up spoof websites that look identical to those of banks and try to trick people into handing over login and account information.  in a bid to shore up the poor security in ie 6  microsoft has regularly issued updates to patch loopholes exploited by criminals and the makers of nuisance programs such as spyware. earlier this month it released a security bulletin that patched eight critical security holes - some of which were found in the ie browser. microsoft has also made a series of acquisitions of small firms that specialise in computer security. one of the first fruits of these acquisitions appeared last month with the release of a microsoft anti-spyware program. an own-brand anti-virus program is due to follow by the end of 2005. the decision to make internet explorer 7 is widely seen as a u-turn because  before now  microsoft said it had no need to update the browser. typically new versions of its browser appear with successive versions of the windows operating system. a new version of ie was widely expected to debut with the next version of windows  codenamed longhorn  which is due to appear in 2006. the current version of internet explorer is four years old  and is widely seen as falling behind rivals such as firefox and opera. there are also persistent rumours that search engine google is poised to produce its own brand browser based on firefox. in particular the firefox browser has been winning fans and users since its first full version was released in november 2004. estimates of how many users firefox has won over vary widely. according to market statistics gathered by websidestory  firefox s market share is now about 5% of all users. however  other browser stat gatherers say the figure is closer to 15%. some technical websites report that a majority of their visitors use the firefox browser. internet explorer still dominates with a share of about 90% but this is down from a peak of almost 96% in mid-2004.\"\n        ],\n        \"semantic_type\": \"\",\n        \"description\": \"\"\n      }\n    },\n    {\n      \"column\": \"cleaned\",\n      \"properties\": {\n        \"dtype\": \"string\",\n        \"num_unique_values\": 2117,\n        \"samples\": [\n          \"burglar defenc guidelin issu household injur even kill intrud unlik prosecut provid act honestli instinct new guidelin say law also protect use someth hand weapon leaflet publish polic prosecutor aim combat confus current legisl let peopl use reason forc guidanc relat england wale follow recent decis minist chang law honestli instinct believ necessari would strongest evid act law guidanc said law protect use someth hand weapon said leaflet publish jointli crown prosecut servic cp associ chief polic offic acpo gener rule extrem circumst fear felt forc use law self defenc said ad household wait attack defend knock someon unconsci kill hurt set trap intrud without involv polic given exampl excess gratuit forc tori call chang law household prosecut use grossli disproportion forc demand back former metropolitan polic commission sir john steven tori frontbench patrick mercer pursu propos privat member bill parliament govern instead mount public campaign clear public uncertainti review conclud law chang necessari home secretari charl clark said believ old adag englishman home castl exactli case believ current law provid inform trawl cp record found peopl prosecut attack intrud past year five convict includ man laid wait burglar commerci premis cheshir beat throw pit set fire cp spokesperson said figur definit prosecut list accord whether commit household intrud one britain highest profil case norfolk farmer toni martin jail life murder year old burglar fred barra convict later reduc manslaught appeal sentenc cut five year mr martin freed prison juli guidanc publish tuesday said polic duti investig incid involv death injuri case involv household attack intrud prosecutor polic determin would dealt swiftli sympathet possibl said\",\n          \"draft eu patent law propos european law softwar patent draft european commiss ec despit request mep law prove controversi limbo year major tech firm say need protect invent other fear hurt smaller tech firm ec say council minist adopt draft version agre upon last may said would review aspect direct direct intend offer patent protect invent use softwar achiev effect word comput implement invent letter ec presid jo manuel barroso told presid european parliament josep borrel commiss intend refer new propos parliament council minist support agreement reach minist may european council agre draft direct return second read european parliament guarante direct becom law instead probabl mean delay controversi direct eu legisl need approv parliament council minist becom law french green mep alain lipietz warn two week ago commiss ignor parliament request would insult assembl said parliament would reject council version legisl part final concili stage decis procedur us patent comput program internet busi method permit mean us base amazon com hold patent one click shop servic exampl critic concern direct could lead similar model happen europ fear could hurt small softwar develop legal financi might larger compani fight patent legal action court support say current law ineffici would serv even play field without bring eu law line us\",\n          \"eu china arm ban lift eu embargo arm export china like lift next six month despit us object uk foreign secretari jack straw said year old ban impos aftermath china crackdown protest tiananmen squar mr straw told common select committe human right concern china remain said wrong put china embargo countri zimbabw burma decemb eu pledg work toward lift ban said readi yet eu move welcom time beij describ embargo product cold war german chancellor gerhard schroeder french presid jacqu chirac repeatedli call embargo lift britain cautiou issu wednesday mr straw said also want end long understood china argument lump say burma zimbabw appropri think told joint committe strateg export control said like ban would lift britain take presid eu luxembourg juli said eu code conduct would prevent increas number arm export countri lift end effect arm control relat china mr straw said us govern suspici motiv countri within eu want ban lift said mani washington object base lack inform understand export control guidelin work eu countri intens discuss take place us offici convinc right thing washington thought fear would lead buy spree arm could use china threaten diplomat rival taiwan us offici say satisfi mechan eu code conduct robust enough prevent abus us undersecretari state john bolton meet british offici week press case keep embargo\"\n        ],\n        \"semantic_type\": \"\",\n        \"description\": \"\"\n      }\n    }\n  ]\n}"
            }
          },
          "metadata": {},
          "execution_count": 50
        }
      ]
    },
    {
      "cell_type": "code",
      "source": [
        "d = {\"go\",\"going\",\"gone\",\"Computer\",\"Computing\"}\n",
        "f = {\"go\",}\n",
        "n = 4"
      ],
      "metadata": {
        "id": "tjU_V1Ug9xE5"
      },
      "execution_count": null,
      "outputs": []
    },
    {
      "cell_type": "code",
      "source": [
        "# df['cleaned'] = df['text'].apply(lambda x: \" \".join([stemmer.stem(i) for i in re.sub(\"[^a-zA-Z]\", \" \", x).split() ]).lower())\n",
        "# df"
      ],
      "metadata": {
        "id": "76wP0Gl7s-Eb"
      },
      "execution_count": null,
      "outputs": []
    },
    {
      "cell_type": "code",
      "source": [
        "print(words)"
      ],
      "metadata": {
        "colab": {
          "base_uri": "https://localhost:8080/"
        },
        "id": "rpyZb6DBr0yS",
        "outputId": "498a74e2-772f-4ab8-c488-8b93b82e3214"
      },
      "execution_count": null,
      "outputs": [
        {
          "output_type": "stream",
          "name": "stdout",
          "text": [
            "['i', 'me', 'my', 'myself', 'we', 'our', 'ours', 'ourselves', 'you', \"you're\", \"you've\", \"you'll\", \"you'd\", 'your', 'yours', 'yourself', 'yourselves', 'he', 'him', 'his', 'himself', 'she', \"she's\", 'her', 'hers', 'herself', 'it', \"it's\", 'its', 'itself', 'they', 'them', 'their', 'theirs', 'themselves', 'what', 'which', 'who', 'whom', 'this', 'that', \"that'll\", 'these', 'those', 'am', 'is', 'are', 'was', 'were', 'be', 'been', 'being', 'have', 'has', 'had', 'having', 'do', 'does', 'did', 'doing', 'a', 'an', 'the', 'and', 'but', 'if', 'or', 'because', 'as', 'until', 'while', 'of', 'at', 'by', 'for', 'with', 'about', 'against', 'between', 'into', 'through', 'during', 'before', 'after', 'above', 'below', 'to', 'from', 'up', 'down', 'in', 'out', 'on', 'off', 'over', 'under', 'again', 'further', 'then', 'once', 'here', 'there', 'when', 'where', 'why', 'how', 'all', 'any', 'both', 'each', 'few', 'more', 'most', 'other', 'some', 'such', 'no', 'nor', 'not', 'only', 'own', 'same', 'so', 'than', 'too', 'very', 's', 't', 'can', 'will', 'just', 'don', \"don't\", 'should', \"should've\", 'now', 'd', 'll', 'm', 'o', 're', 've', 'y', 'ain', 'aren', \"aren't\", 'couldn', \"couldn't\", 'didn', \"didn't\", 'doesn', \"doesn't\", 'hadn', \"hadn't\", 'hasn', \"hasn't\", 'haven', \"haven't\", 'isn', \"isn't\", 'ma', 'mightn', \"mightn't\", 'mustn', \"mustn't\", 'needn', \"needn't\", 'shan', \"shan't\", 'shouldn', \"shouldn't\", 'wasn', \"wasn't\", 'weren', \"weren't\", 'won', \"won't\", 'wouldn', \"wouldn't\"]\n"
          ]
        }
      ]
    },
    {
      "cell_type": "code",
      "source": [
        "df['cleaned'] = df['text'].apply(lambda x: \" \".join([stemmer.stem(i) for i in re.sub(\"[^a-zA-Z]\", \" \", x).split() if i not in words]).lower())\n",
        "df"
      ],
      "metadata": {
        "colab": {
          "base_uri": "https://localhost:8080/",
          "height": 597
        },
        "id": "e7YQAi-Asdy2",
        "outputId": "dba6b3ac-7c31-402c-e3ee-5b19fd30d1d7"
      },
      "execution_count": null,
      "outputs": [
        {
          "output_type": "execute_result",
          "data": {
            "text/plain": [
              "           category                                               text  \\\n",
              "824        politics  prime minister s questions so who  if anyone  ...   \n",
              "553            tech  games win for blu-ray dvd format the next-gene...   \n",
              "163   entertainment  musical treatment for capra film the classic f...   \n",
              "756            tech  hotspot users gain free net calls people using...   \n",
              "718            tech  apple attacked over sources row civil libertie...   \n",
              "...             ...                                                ...   \n",
              "488           sport  pavey focuses on indoor success jo pavey will ...   \n",
              "1530       business  ford gains from finance not cars ford  the us ...   \n",
              "795           sport  desailly backs blues revenge trip marcel desai...   \n",
              "1720       politics  mandelson warning to bbc the bbc should steer ...   \n",
              "529           sport  newcastle line up babayaro newcastle manager g...   \n",
              "\n",
              "                                                cleaned  \n",
              "824   prime minist s question so who if anyon is pla...  \n",
              "553   game win for blu ray dvd format the next gener...  \n",
              "163   music treatment for capra film the classic fil...  \n",
              "756   hotspot user gain free net call peopl use wire...  \n",
              "718   appl attack over sourc row civil liberti group...  \n",
              "...                                                 ...  \n",
              "488   pavey focus on indoor success jo pavey will mi...  \n",
              "1530  ford gain from financ not car ford the us car ...  \n",
              "795   desailli back blue reveng trip marcel desailli...  \n",
              "1720  mandelson warn to bbc the bbc should steer awa...  \n",
              "529   newcastl line up babayaro newcastl manag graem...  \n",
              "\n",
              "[2225 rows x 3 columns]"
            ],
            "text/html": [
              "\n",
              "  <div id=\"df-40bcda87-f0ba-44eb-b0d7-a3bc51d56ea4\" class=\"colab-df-container\">\n",
              "    <div>\n",
              "<style scoped>\n",
              "    .dataframe tbody tr th:only-of-type {\n",
              "        vertical-align: middle;\n",
              "    }\n",
              "\n",
              "    .dataframe tbody tr th {\n",
              "        vertical-align: top;\n",
              "    }\n",
              "\n",
              "    .dataframe thead th {\n",
              "        text-align: right;\n",
              "    }\n",
              "</style>\n",
              "<table border=\"1\" class=\"dataframe\">\n",
              "  <thead>\n",
              "    <tr style=\"text-align: right;\">\n",
              "      <th></th>\n",
              "      <th>category</th>\n",
              "      <th>text</th>\n",
              "      <th>cleaned</th>\n",
              "    </tr>\n",
              "  </thead>\n",
              "  <tbody>\n",
              "    <tr>\n",
              "      <th>824</th>\n",
              "      <td>politics</td>\n",
              "      <td>prime minister s questions so who  if anyone  ...</td>\n",
              "      <td>prime minist s question so who if anyon is pla...</td>\n",
              "    </tr>\n",
              "    <tr>\n",
              "      <th>553</th>\n",
              "      <td>tech</td>\n",
              "      <td>games win for blu-ray dvd format the next-gene...</td>\n",
              "      <td>game win for blu ray dvd format the next gener...</td>\n",
              "    </tr>\n",
              "    <tr>\n",
              "      <th>163</th>\n",
              "      <td>entertainment</td>\n",
              "      <td>musical treatment for capra film the classic f...</td>\n",
              "      <td>music treatment for capra film the classic fil...</td>\n",
              "    </tr>\n",
              "    <tr>\n",
              "      <th>756</th>\n",
              "      <td>tech</td>\n",
              "      <td>hotspot users gain free net calls people using...</td>\n",
              "      <td>hotspot user gain free net call peopl use wire...</td>\n",
              "    </tr>\n",
              "    <tr>\n",
              "      <th>718</th>\n",
              "      <td>tech</td>\n",
              "      <td>apple attacked over sources row civil libertie...</td>\n",
              "      <td>appl attack over sourc row civil liberti group...</td>\n",
              "    </tr>\n",
              "    <tr>\n",
              "      <th>...</th>\n",
              "      <td>...</td>\n",
              "      <td>...</td>\n",
              "      <td>...</td>\n",
              "    </tr>\n",
              "    <tr>\n",
              "      <th>488</th>\n",
              "      <td>sport</td>\n",
              "      <td>pavey focuses on indoor success jo pavey will ...</td>\n",
              "      <td>pavey focus on indoor success jo pavey will mi...</td>\n",
              "    </tr>\n",
              "    <tr>\n",
              "      <th>1530</th>\n",
              "      <td>business</td>\n",
              "      <td>ford gains from finance not cars ford  the us ...</td>\n",
              "      <td>ford gain from financ not car ford the us car ...</td>\n",
              "    </tr>\n",
              "    <tr>\n",
              "      <th>795</th>\n",
              "      <td>sport</td>\n",
              "      <td>desailly backs blues revenge trip marcel desai...</td>\n",
              "      <td>desailli back blue reveng trip marcel desailli...</td>\n",
              "    </tr>\n",
              "    <tr>\n",
              "      <th>1720</th>\n",
              "      <td>politics</td>\n",
              "      <td>mandelson warning to bbc the bbc should steer ...</td>\n",
              "      <td>mandelson warn to bbc the bbc should steer awa...</td>\n",
              "    </tr>\n",
              "    <tr>\n",
              "      <th>529</th>\n",
              "      <td>sport</td>\n",
              "      <td>newcastle line up babayaro newcastle manager g...</td>\n",
              "      <td>newcastl line up babayaro newcastl manag graem...</td>\n",
              "    </tr>\n",
              "  </tbody>\n",
              "</table>\n",
              "<p>2225 rows × 3 columns</p>\n",
              "</div>\n",
              "    <div class=\"colab-df-buttons\">\n",
              "\n",
              "  <div class=\"colab-df-container\">\n",
              "    <button class=\"colab-df-convert\" onclick=\"convertToInteractive('df-40bcda87-f0ba-44eb-b0d7-a3bc51d56ea4')\"\n",
              "            title=\"Convert this dataframe to an interactive table.\"\n",
              "            style=\"display:none;\">\n",
              "\n",
              "  <svg xmlns=\"http://www.w3.org/2000/svg\" height=\"24px\" viewBox=\"0 -960 960 960\">\n",
              "    <path d=\"M120-120v-720h720v720H120Zm60-500h600v-160H180v160Zm220 220h160v-160H400v160Zm0 220h160v-160H400v160ZM180-400h160v-160H180v160Zm440 0h160v-160H620v160ZM180-180h160v-160H180v160Zm440 0h160v-160H620v160Z\"/>\n",
              "  </svg>\n",
              "    </button>\n",
              "\n",
              "  <style>\n",
              "    .colab-df-container {\n",
              "      display:flex;\n",
              "      gap: 12px;\n",
              "    }\n",
              "\n",
              "    .colab-df-convert {\n",
              "      background-color: #E8F0FE;\n",
              "      border: none;\n",
              "      border-radius: 50%;\n",
              "      cursor: pointer;\n",
              "      display: none;\n",
              "      fill: #1967D2;\n",
              "      height: 32px;\n",
              "      padding: 0 0 0 0;\n",
              "      width: 32px;\n",
              "    }\n",
              "\n",
              "    .colab-df-convert:hover {\n",
              "      background-color: #E2EBFA;\n",
              "      box-shadow: 0px 1px 2px rgba(60, 64, 67, 0.3), 0px 1px 3px 1px rgba(60, 64, 67, 0.15);\n",
              "      fill: #174EA6;\n",
              "    }\n",
              "\n",
              "    .colab-df-buttons div {\n",
              "      margin-bottom: 4px;\n",
              "    }\n",
              "\n",
              "    [theme=dark] .colab-df-convert {\n",
              "      background-color: #3B4455;\n",
              "      fill: #D2E3FC;\n",
              "    }\n",
              "\n",
              "    [theme=dark] .colab-df-convert:hover {\n",
              "      background-color: #434B5C;\n",
              "      box-shadow: 0px 1px 3px 1px rgba(0, 0, 0, 0.15);\n",
              "      filter: drop-shadow(0px 1px 2px rgba(0, 0, 0, 0.3));\n",
              "      fill: #FFFFFF;\n",
              "    }\n",
              "  </style>\n",
              "\n",
              "    <script>\n",
              "      const buttonEl =\n",
              "        document.querySelector('#df-40bcda87-f0ba-44eb-b0d7-a3bc51d56ea4 button.colab-df-convert');\n",
              "      buttonEl.style.display =\n",
              "        google.colab.kernel.accessAllowed ? 'block' : 'none';\n",
              "\n",
              "      async function convertToInteractive(key) {\n",
              "        const element = document.querySelector('#df-40bcda87-f0ba-44eb-b0d7-a3bc51d56ea4');\n",
              "        const dataTable =\n",
              "          await google.colab.kernel.invokeFunction('convertToInteractive',\n",
              "                                                    [key], {});\n",
              "        if (!dataTable) return;\n",
              "\n",
              "        const docLinkHtml = 'Like what you see? Visit the ' +\n",
              "          '<a target=\"_blank\" href=https://colab.research.google.com/notebooks/data_table.ipynb>data table notebook</a>'\n",
              "          + ' to learn more about interactive tables.';\n",
              "        element.innerHTML = '';\n",
              "        dataTable['output_type'] = 'display_data';\n",
              "        await google.colab.output.renderOutput(dataTable, element);\n",
              "        const docLink = document.createElement('div');\n",
              "        docLink.innerHTML = docLinkHtml;\n",
              "        element.appendChild(docLink);\n",
              "      }\n",
              "    </script>\n",
              "  </div>\n",
              "\n",
              "\n",
              "<div id=\"df-a8b574f3-897a-4581-839a-c2021345b5aa\">\n",
              "  <button class=\"colab-df-quickchart\" onclick=\"quickchart('df-a8b574f3-897a-4581-839a-c2021345b5aa')\"\n",
              "            title=\"Suggest charts\"\n",
              "            style=\"display:none;\">\n",
              "\n",
              "<svg xmlns=\"http://www.w3.org/2000/svg\" height=\"24px\"viewBox=\"0 0 24 24\"\n",
              "     width=\"24px\">\n",
              "    <g>\n",
              "        <path d=\"M19 3H5c-1.1 0-2 .9-2 2v14c0 1.1.9 2 2 2h14c1.1 0 2-.9 2-2V5c0-1.1-.9-2-2-2zM9 17H7v-7h2v7zm4 0h-2V7h2v10zm4 0h-2v-4h2v4z\"/>\n",
              "    </g>\n",
              "</svg>\n",
              "  </button>\n",
              "\n",
              "<style>\n",
              "  .colab-df-quickchart {\n",
              "      --bg-color: #E8F0FE;\n",
              "      --fill-color: #1967D2;\n",
              "      --hover-bg-color: #E2EBFA;\n",
              "      --hover-fill-color: #174EA6;\n",
              "      --disabled-fill-color: #AAA;\n",
              "      --disabled-bg-color: #DDD;\n",
              "  }\n",
              "\n",
              "  [theme=dark] .colab-df-quickchart {\n",
              "      --bg-color: #3B4455;\n",
              "      --fill-color: #D2E3FC;\n",
              "      --hover-bg-color: #434B5C;\n",
              "      --hover-fill-color: #FFFFFF;\n",
              "      --disabled-bg-color: #3B4455;\n",
              "      --disabled-fill-color: #666;\n",
              "  }\n",
              "\n",
              "  .colab-df-quickchart {\n",
              "    background-color: var(--bg-color);\n",
              "    border: none;\n",
              "    border-radius: 50%;\n",
              "    cursor: pointer;\n",
              "    display: none;\n",
              "    fill: var(--fill-color);\n",
              "    height: 32px;\n",
              "    padding: 0;\n",
              "    width: 32px;\n",
              "  }\n",
              "\n",
              "  .colab-df-quickchart:hover {\n",
              "    background-color: var(--hover-bg-color);\n",
              "    box-shadow: 0 1px 2px rgba(60, 64, 67, 0.3), 0 1px 3px 1px rgba(60, 64, 67, 0.15);\n",
              "    fill: var(--button-hover-fill-color);\n",
              "  }\n",
              "\n",
              "  .colab-df-quickchart-complete:disabled,\n",
              "  .colab-df-quickchart-complete:disabled:hover {\n",
              "    background-color: var(--disabled-bg-color);\n",
              "    fill: var(--disabled-fill-color);\n",
              "    box-shadow: none;\n",
              "  }\n",
              "\n",
              "  .colab-df-spinner {\n",
              "    border: 2px solid var(--fill-color);\n",
              "    border-color: transparent;\n",
              "    border-bottom-color: var(--fill-color);\n",
              "    animation:\n",
              "      spin 1s steps(1) infinite;\n",
              "  }\n",
              "\n",
              "  @keyframes spin {\n",
              "    0% {\n",
              "      border-color: transparent;\n",
              "      border-bottom-color: var(--fill-color);\n",
              "      border-left-color: var(--fill-color);\n",
              "    }\n",
              "    20% {\n",
              "      border-color: transparent;\n",
              "      border-left-color: var(--fill-color);\n",
              "      border-top-color: var(--fill-color);\n",
              "    }\n",
              "    30% {\n",
              "      border-color: transparent;\n",
              "      border-left-color: var(--fill-color);\n",
              "      border-top-color: var(--fill-color);\n",
              "      border-right-color: var(--fill-color);\n",
              "    }\n",
              "    40% {\n",
              "      border-color: transparent;\n",
              "      border-right-color: var(--fill-color);\n",
              "      border-top-color: var(--fill-color);\n",
              "    }\n",
              "    60% {\n",
              "      border-color: transparent;\n",
              "      border-right-color: var(--fill-color);\n",
              "    }\n",
              "    80% {\n",
              "      border-color: transparent;\n",
              "      border-right-color: var(--fill-color);\n",
              "      border-bottom-color: var(--fill-color);\n",
              "    }\n",
              "    90% {\n",
              "      border-color: transparent;\n",
              "      border-bottom-color: var(--fill-color);\n",
              "    }\n",
              "  }\n",
              "</style>\n",
              "\n",
              "  <script>\n",
              "    async function quickchart(key) {\n",
              "      const quickchartButtonEl =\n",
              "        document.querySelector('#' + key + ' button');\n",
              "      quickchartButtonEl.disabled = true;  // To prevent multiple clicks.\n",
              "      quickchartButtonEl.classList.add('colab-df-spinner');\n",
              "      try {\n",
              "        const charts = await google.colab.kernel.invokeFunction(\n",
              "            'suggestCharts', [key], {});\n",
              "      } catch (error) {\n",
              "        console.error('Error during call to suggestCharts:', error);\n",
              "      }\n",
              "      quickchartButtonEl.classList.remove('colab-df-spinner');\n",
              "      quickchartButtonEl.classList.add('colab-df-quickchart-complete');\n",
              "    }\n",
              "    (() => {\n",
              "      let quickchartButtonEl =\n",
              "        document.querySelector('#df-a8b574f3-897a-4581-839a-c2021345b5aa button');\n",
              "      quickchartButtonEl.style.display =\n",
              "        google.colab.kernel.accessAllowed ? 'block' : 'none';\n",
              "    })();\n",
              "  </script>\n",
              "</div>\n",
              "\n",
              "  <div id=\"id_ca63520a-c605-402b-b227-4e97ec973c50\">\n",
              "    <style>\n",
              "      .colab-df-generate {\n",
              "        background-color: #E8F0FE;\n",
              "        border: none;\n",
              "        border-radius: 50%;\n",
              "        cursor: pointer;\n",
              "        display: none;\n",
              "        fill: #1967D2;\n",
              "        height: 32px;\n",
              "        padding: 0 0 0 0;\n",
              "        width: 32px;\n",
              "      }\n",
              "\n",
              "      .colab-df-generate:hover {\n",
              "        background-color: #E2EBFA;\n",
              "        box-shadow: 0px 1px 2px rgba(60, 64, 67, 0.3), 0px 1px 3px 1px rgba(60, 64, 67, 0.15);\n",
              "        fill: #174EA6;\n",
              "      }\n",
              "\n",
              "      [theme=dark] .colab-df-generate {\n",
              "        background-color: #3B4455;\n",
              "        fill: #D2E3FC;\n",
              "      }\n",
              "\n",
              "      [theme=dark] .colab-df-generate:hover {\n",
              "        background-color: #434B5C;\n",
              "        box-shadow: 0px 1px 3px 1px rgba(0, 0, 0, 0.15);\n",
              "        filter: drop-shadow(0px 1px 2px rgba(0, 0, 0, 0.3));\n",
              "        fill: #FFFFFF;\n",
              "      }\n",
              "    </style>\n",
              "    <button class=\"colab-df-generate\" onclick=\"generateWithVariable('df')\"\n",
              "            title=\"Generate code using this dataframe.\"\n",
              "            style=\"display:none;\">\n",
              "\n",
              "  <svg xmlns=\"http://www.w3.org/2000/svg\" height=\"24px\"viewBox=\"0 0 24 24\"\n",
              "       width=\"24px\">\n",
              "    <path d=\"M7,19H8.4L18.45,9,17,7.55,7,17.6ZM5,21V16.75L18.45,3.32a2,2,0,0,1,2.83,0l1.4,1.43a1.91,1.91,0,0,1,.58,1.4,1.91,1.91,0,0,1-.58,1.4L9.25,21ZM18.45,9,17,7.55Zm-12,3A5.31,5.31,0,0,0,4.9,8.1,5.31,5.31,0,0,0,1,6.5,5.31,5.31,0,0,0,4.9,4.9,5.31,5.31,0,0,0,6.5,1,5.31,5.31,0,0,0,8.1,4.9,5.31,5.31,0,0,0,12,6.5,5.46,5.46,0,0,0,6.5,12Z\"/>\n",
              "  </svg>\n",
              "    </button>\n",
              "    <script>\n",
              "      (() => {\n",
              "      const buttonEl =\n",
              "        document.querySelector('#id_ca63520a-c605-402b-b227-4e97ec973c50 button.colab-df-generate');\n",
              "      buttonEl.style.display =\n",
              "        google.colab.kernel.accessAllowed ? 'block' : 'none';\n",
              "\n",
              "      buttonEl.onclick = () => {\n",
              "        google.colab.notebook.generateWithVariable('df');\n",
              "      }\n",
              "      })();\n",
              "    </script>\n",
              "  </div>\n",
              "\n",
              "    </div>\n",
              "  </div>\n"
            ],
            "application/vnd.google.colaboratory.intrinsic+json": {
              "type": "dataframe",
              "variable_name": "df",
              "summary": "{\n  \"name\": \"df\",\n  \"rows\": 2225,\n  \"fields\": [\n    {\n      \"column\": \"category\",\n      \"properties\": {\n        \"dtype\": \"category\",\n        \"num_unique_values\": 5,\n        \"samples\": [\n          \"tech\",\n          \"business\",\n          \"entertainment\"\n        ],\n        \"semantic_type\": \"\",\n        \"description\": \"\"\n      }\n    },\n    {\n      \"column\": \"text\",\n      \"properties\": {\n        \"dtype\": \"string\",\n        \"num_unique_values\": 2126,\n        \"samples\": [\n          \"uk economy ends year with spurt the uk economy grew by an estimated 3.1% in 2004 after accelerating in the last quarter of the year  says the office for national statistics (ons).  the figure is in line with treasury and bank of england forecasts. the ons says gross domestic product (gdp) rose by a strong 0.7% in the three months to 31 december  compared with 0.5% in the previous quarter. the rise came despite a further decline in production output and the worst christmas for retailers in decades.  the annual figure marked out the best year since 2000  and was also well ahead of the 2.2% recorded in 2003. growth in the final three months of 2004 marked the 50th consecutive quarter of expansion.  on the basis of the latest information the uk has entered 2005 on course to continue its record period of growth   said paul boateng  chief secretary to the treasury in a statement.  the ons said the services sector  which accounts for nearly three-quarters of the uk economy  grew 1.0% in the quarter. the strong services figure was welcomed by analysts  given lacklustre retail sales in december and across the christmas holiday period.  the fact that other services components are doing so well suggests to me that we are back to trend (growth) and i am not particularly concerned about any further slowdown   said ross walker  uk economist at rbs financial markets.  however  output in the production sector contracted 0.5%  the second quarterly fall in row and a state of affairs that some economists classify as a recession. however the ons would not comment on the definition of a recession and whether the manufacturing recovery was over. but steve radley  chief economist at the manufacturers  organisation eef  said:  these figures remain at odds with what is actually happening on the ground.  whilst companies may be experiencing tougher conditions this year   recession  is not a word that manufacturers would currently recognise.  the ons said a sharp fall in mining and quarrying  which was driven by oil and gas extraction  was primarily responsible for the overall contraction in manufacturing production figures.  simon rubinsohn  chief economist at gerrard  said:  this outturn (of 0.7%) was well ahead of the market expectations and cast doubt on the scare stories doing the rounds surrounding the current state of the uk economy.  and he said the gdp figures may help to  push interest rate expectations a little higher along the curve .  the suggestion from the money markets is that the next move is now more likely to be in an upward rather than a downward direction. this is consistent with our own thinking   said mr rubinsohn. the bank of england s nine-strong rate-setting committee voted unanimously earlier this month to keep interest rates steady at 4.75%  minutes of the meeting showed on wednesday.\",\n          \"whitehall cuts  ahead of target  thousands of civil service jobs have already been cut or moved out of london as part of a major cost-cutting drive.  chancellor gordon brown said 12 500 jobs had gone while 7 800 were being moved out of the south east. he plans to axe 104 000 jobs to free up money for education  health  defence  housing and overseas aid. unions oppose the plans but mr brown said \\u00a32bn savings had already been made and more jobs had been cut than had been expected at this stage. a further 200 jobs at the department of the environment  food and rural affairs have been earmarked to be cut. at the department for work and pensions  30 000 jobs are to go  560 will be lost by the end of the month at the department of trade and industry and 400 are to go at the inland revenue and customs.  in his budget statement  the chancellor said the first 12 500 civil service jobs had been cut  on target. about 4 300 civil servants will leave london and the south east by the end of march 2005 and there are plans to relocate another 3 500. of those 300 department of health posts will go to yorkshire while hundreds at the department of culture will move to birmingham and newcastle.  mr brown also announced plans to merge 35 agencies into nine - described by one civil service union as a  bonfire of the quangos . mark serwotka  the leader of the public and commercial services union said:  in last year s budget we had the day of the long knifes as the chancellor kicked off the crude game of who could cut the most civil service jobs between the government and the tories.  there was a time when the only worry thousands of hard working civil and public servants had on budget day was whether petrol or taxes would go up  nowadays the worry is whether they will have a job by the end of it.  he said mr brown had made welcome announcements on closing tax loopholes and extending the new deal  while cutting  the very people who deliver them.  the treasury also announced plans to reduce the number of public sector workers on sick leave with a new system of checks and tougher measures against those suspected of abusing the system.\",\n          \"security scares spark browser fix microsoft is working on a new version of its internet explorer web browser.  the revamp has been prompted by microsoft s growing concern with security as well as increased competition from rival browsers. microsoft said the new version will be far less vulnerable to the bugs that make its current browser a favourite of tech-savvy criminals. test versions of the new program  called ie 7  are due to be released by the summer.  the announcement about internet explorer was made by bill gates  microsoft chairman and chief software architect  during a keynote speech at the rsa security conference currently being held in san francisco. although details were scant  mr gates  said ie7 would include new protections against viruses  spyware and phishing scams. this last category of threats involves criminals setting up spoof websites that look identical to those of banks and try to trick people into handing over login and account information.  in a bid to shore up the poor security in ie 6  microsoft has regularly issued updates to patch loopholes exploited by criminals and the makers of nuisance programs such as spyware. earlier this month it released a security bulletin that patched eight critical security holes - some of which were found in the ie browser. microsoft has also made a series of acquisitions of small firms that specialise in computer security. one of the first fruits of these acquisitions appeared last month with the release of a microsoft anti-spyware program. an own-brand anti-virus program is due to follow by the end of 2005. the decision to make internet explorer 7 is widely seen as a u-turn because  before now  microsoft said it had no need to update the browser. typically new versions of its browser appear with successive versions of the windows operating system. a new version of ie was widely expected to debut with the next version of windows  codenamed longhorn  which is due to appear in 2006. the current version of internet explorer is four years old  and is widely seen as falling behind rivals such as firefox and opera. there are also persistent rumours that search engine google is poised to produce its own brand browser based on firefox. in particular the firefox browser has been winning fans and users since its first full version was released in november 2004. estimates of how many users firefox has won over vary widely. according to market statistics gathered by websidestory  firefox s market share is now about 5% of all users. however  other browser stat gatherers say the figure is closer to 15%. some technical websites report that a majority of their visitors use the firefox browser. internet explorer still dominates with a share of about 90% but this is down from a peak of almost 96% in mid-2004.\"\n        ],\n        \"semantic_type\": \"\",\n        \"description\": \"\"\n      }\n    },\n    {\n      \"column\": \"cleaned\",\n      \"properties\": {\n        \"dtype\": \"string\",\n        \"num_unique_values\": 2121,\n        \"samples\": [\n          \"hollywood to sue net film pirat the us movi industri ha launch legal action to sue peopl who facilit illeg film download the motion pictur associ of america want to stop peopl use the program bittorr to swap movi the industri is target peopl who run websit which provid inform and internet link to movi which have been copi or film in cinema more than server oper have been target in the action launch in the us and uk the mpaa ad the suit were file against user of the file share program bittorr edonkey and directconnect in the unit state unit kingdom franc finland and the netherland the mpaa said bittorr user can download movi by follow a link to file which are found on websit call tracker unlik most peer to peer program bittorr work by share a file which could be anyth from a legitim digit photo to a copi movi among multipl user at the same time the movi industri hope that su the peopl who run the tracker will cut bittorr user off from illeg movi at sourc last month major film studio start legal action against individu who were swap film onlin the growth in broadband ha made it quicker for peopl to download movi and the industri fear that if it doe not take action now it could suffer the same downturn as the music industri\",\n          \"china aviat seek rescu deal scandal hit jet fuel supplier china aviat oil ha offer to repay it creditor m m of the m it lost on trade in oil futur the firm said it hope to pay m now and anoth m over eight year with asset of m and liabil total m it need creditor back for the offer to avoid go into bankruptci the trade scandal is the biggest to hit singapor sinc the bn collaps of bare bank in chen jiulin chief execut of china aviat oil cao wa arrest by at changi airport by singapor polic on decemb he wa return from china where he had head when cao announc it trade debacl in late novemb the firm had been bet heavili on a fall in the price of oil dure octob but price rose sharpli instead among the creditor whose back cao need for it restructur plan are bank giant such as barclay s capit and sumitomo mitsui as well as south korean firm sk energi of the immedi payment the firm china s biggest jet fuel supplier said it would be pay m out of it own resourc the rest would come from it parent compani china aviat oil hold compani in beij the hold compani own by the chines govern hold most of cao s singapor list share it cut it hold from to on octob\",\n          \"eu referendum could cost m it could cost m to run a uk referendum on the european constitut minist have reveal in a written parliamentari answer constitut affair minist chri lesli said the poll wa like to cost the same as a gener elect mr lesli said the cost could not be compar with the onli previou british referendum held year ago minist say the constitut would make the european union work better but critic fear creat a super state labour mp john cryer whose question reveal the price estim said the cost surpris him but wa not a central factor as it wa import peopl had their say but he said it would have been better to have reject the constitut so avoid the need for a referendum the elect cost m no date for the vote ha been set but foreign secretari jack straw ha suggest it is unlik to be held until earli after the predict date for the next elect most voter said the uk should stay in the common market in the referendum\"\n        ],\n        \"semantic_type\": \"\",\n        \"description\": \"\"\n      }\n    }\n  ]\n}"
            }
          },
          "metadata": {},
          "execution_count": 55
        }
      ]
    },
    {
      "cell_type": "code",
      "source": [
        "# Training model\n",
        "from sklearn.linear_model import LogisticRegression\n",
        "log_regression = LogisticRegression()\n",
        "\n",
        "vectorizer = TfidfVectorizer()\n",
        "\n",
        "X = df['cleaned']\n",
        "Y = df['category']\n",
        "\n",
        "X_train, X_test, y_train, y_test = train_test_split(X, Y, test_size=0.05) #Splitting dataset\n",
        "# #Creating Pipeline\n",
        "pipeline = Pipeline([('vect', vectorizer),\n",
        "                     ('chi',  SelectKBest(chi2, k=1200)),\n",
        "                     ('clf', LogisticRegression())])\n",
        "#Training model\n",
        "model = pipeline.fit(X_train, y_train)\n",
        "\n",
        "# #Creating pickle file\n",
        "# with open('LogisticRegression.pickle', 'wb') as f:\n",
        "#     pickle.dump(model, f)"
      ],
      "metadata": {
        "id": "qunZeGdV_GLj"
      },
      "execution_count": null,
      "outputs": []
    },
    {
      "cell_type": "code",
      "source": [
        "X_test"
      ],
      "metadata": {
        "colab": {
          "base_uri": "https://localhost:8080/"
        },
        "id": "8Eu9imI40JlD",
        "outputId": "5b529f30-19dc-4e41-93c6-5532616982a8"
      },
      "execution_count": null,
      "outputs": [
        {
          "output_type": "execute_result",
          "data": {
            "text/plain": [
              "1634    soni psp handheld consol hit us the latest han...\n",
              "1252    blinx sequel purr nice the origin blinx wa int...\n",
              "1174    what realli divid the parti so what is the gap...\n",
              "1696    us airway staff agre to pay cut a union repres...\n",
              "389     will tori tax cut lift spirit michael howard h...\n",
              "                              ...                        \n",
              "2151    lion blow to world cup star british and irish ...\n",
              "1026    newcastl gloucest newcastl centr mathew tait a...\n",
              "1537    classi henman make win start tim henman open h...\n",
              "2013    trade gap narrow as export rise the uk s trade...\n",
              "1118    ireland call up uncap campbel ulster scrum hal...\n",
              "Name: cleaned, Length: 112, dtype: object"
            ]
          },
          "metadata": {},
          "execution_count": 57
        }
      ]
    },
    {
      "cell_type": "code",
      "source": [
        "predict = model.predict(X_test.iloc[0:1])\n",
        "print(predict)\n"
      ],
      "metadata": {
        "colab": {
          "base_uri": "https://localhost:8080/"
        },
        "id": "wEdHCj4ph0rA",
        "outputId": "c5782094-9610-491c-f00f-94cc1ac6dea6"
      },
      "execution_count": null,
      "outputs": [
        {
          "output_type": "stream",
          "name": "stdout",
          "text": [
            "['tech']\n"
          ]
        }
      ]
    },
    {
      "cell_type": "code",
      "source": [
        "predict = model.predict(X_test)\n",
        "predict"
      ],
      "metadata": {
        "colab": {
          "base_uri": "https://localhost:8080/"
        },
        "id": "AsS1RFQSiMoA",
        "outputId": "36974012-8443-4234-b10b-df6b478e1666"
      },
      "execution_count": null,
      "outputs": [
        {
          "output_type": "execute_result",
          "data": {
            "text/plain": [
              "array(['tech', 'tech', 'politics', 'business', 'politics', 'sport',\n",
              "       'politics', 'sport', 'sport', 'tech', 'sport', 'politics',\n",
              "       'politics', 'business', 'business', 'politics', 'sport',\n",
              "       'entertainment', 'politics', 'entertainment', 'business',\n",
              "       'entertainment', 'sport', 'entertainment', 'sport', 'sport',\n",
              "       'business', 'entertainment', 'entertainment', 'tech', 'business',\n",
              "       'business', 'sport', 'business', 'politics', 'business',\n",
              "       'business', 'entertainment', 'politics', 'business', 'politics',\n",
              "       'entertainment', 'sport', 'business', 'business', 'sport',\n",
              "       'business', 'entertainment', 'entertainment', 'tech',\n",
              "       'entertainment', 'sport', 'tech', 'business', 'tech', 'sport',\n",
              "       'politics', 'tech', 'sport', 'entertainment', 'sport',\n",
              "       'entertainment', 'politics', 'entertainment', 'sport',\n",
              "       'entertainment', 'business', 'business', 'entertainment', 'sport',\n",
              "       'sport', 'entertainment', 'sport', 'business', 'politics',\n",
              "       'business', 'business', 'sport', 'politics', 'tech',\n",
              "       'entertainment', 'business', 'tech', 'politics', 'tech', 'tech',\n",
              "       'tech', 'sport', 'tech', 'tech', 'politics', 'business', 'sport',\n",
              "       'entertainment', 'sport', 'business', 'tech', 'business',\n",
              "       'politics', 'entertainment', 'sport', 'tech', 'sport', 'politics',\n",
              "       'entertainment', 'tech', 'sport', 'sport', 'sport', 'sport',\n",
              "       'business', 'sport'], dtype=object)"
            ]
          },
          "metadata": {},
          "execution_count": 59
        }
      ]
    },
    {
      "cell_type": "code",
      "source": [
        "y_test"
      ],
      "metadata": {
        "colab": {
          "base_uri": "https://localhost:8080/"
        },
        "id": "gm-n63BKDAmT",
        "outputId": "abc72625-e1d0-4578-bebf-917b9be96ab0"
      },
      "execution_count": null,
      "outputs": [
        {
          "output_type": "execute_result",
          "data": {
            "text/plain": [
              "1634        tech\n",
              "1252        tech\n",
              "1174    politics\n",
              "1696    business\n",
              "389     politics\n",
              "          ...   \n",
              "2151       sport\n",
              "1026       sport\n",
              "1537       sport\n",
              "2013    business\n",
              "1118       sport\n",
              "Name: category, Length: 112, dtype: object"
            ]
          },
          "metadata": {},
          "execution_count": 60
        }
      ]
    },
    {
      "cell_type": "code",
      "source": [
        "#Accuracy\n",
        "from sklearn.metrics import accuracy_score\n",
        "predict = model.predict(X_test)\n",
        "print(accuracy_score(y_test,predict)*100)\n",
        "print('\\n')\n"
      ],
      "metadata": {
        "colab": {
          "base_uri": "https://localhost:8080/"
        },
        "id": "aAZIfQmWIlP1",
        "outputId": "c1aed8bf-fa57-465f-d7a3-35fe546d0655"
      },
      "execution_count": null,
      "outputs": [
        {
          "output_type": "stream",
          "name": "stdout",
          "text": [
            "98.21428571428571\n",
            "\n",
            "\n"
          ]
        }
      ]
    },
    {
      "cell_type": "code",
      "source": [
        "data = {'news':[input(\"Enter news = \") for i in range(2)]}\n",
        "data = pd.DataFrame(data)\n",
        "predict = model.predict(data['news'])\n",
        "print(predict)"
      ],
      "metadata": {
        "colab": {
          "base_uri": "https://localhost:8080/"
        },
        "id": "0dqkp-WRkE9f",
        "outputId": "d1c15c31-2226-444e-fce9-fd12afe658d7"
      },
      "execution_count": null,
      "outputs": [
        {
          "output_type": "stream",
          "name": "stdout",
          "text": [
            "Enter news = sdfsdf\n",
            "Enter news = sfsdfdsfsdf\n",
            "['sport' 'sport']\n"
          ]
        }
      ]
    },
    {
      "cell_type": "code",
      "source": [
        "# confusion matrix and classification report(precision, recall, F1-score)\n",
        "ytest = np.array(y_test)\n",
        "print(classification_report(ytest,model.predict(X_test)))\n",
        "print(confusion_matrix(model.predict(X_test),ytest))"
      ],
      "metadata": {
        "id": "y24Ctjrm_rpj",
        "colab": {
          "base_uri": "https://localhost:8080/"
        },
        "outputId": "9e5938cb-c121-4051-f58d-8e39f89dce50"
      },
      "execution_count": null,
      "outputs": [
        {
          "output_type": "stream",
          "name": "stdout",
          "text": [
            "               precision    recall  f1-score   support\n",
            "\n",
            "     business       1.00      1.00      1.00        33\n",
            "entertainment       0.94      0.94      0.94        18\n",
            "     politics       0.95      0.95      0.95        19\n",
            "        sport       1.00      1.00      1.00        20\n",
            "         tech       0.95      0.95      0.95        22\n",
            "\n",
            "     accuracy                           0.97       112\n",
            "    macro avg       0.97      0.97      0.97       112\n",
            " weighted avg       0.97      0.97      0.97       112\n",
            "\n",
            "[[33  0  0  0  0]\n",
            " [ 0 17  0  0  1]\n",
            " [ 0  1 18  0  0]\n",
            " [ 0  0  0 20  0]\n",
            " [ 0  0  1  0 21]]\n"
          ]
        }
      ]
    },
    {
      "cell_type": "code",
      "source": [],
      "metadata": {
        "id": "0CoGLcdeMxjw"
      },
      "execution_count": null,
      "outputs": []
    }
  ]
}